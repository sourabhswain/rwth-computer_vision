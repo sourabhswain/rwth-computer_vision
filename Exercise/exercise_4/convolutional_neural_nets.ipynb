{
  "nbformat": 4,
  "nbformat_minor": 0,
  "metadata": {
    "colab": {
      "name": "convolutional_neural_nets.ipynb",
      "version": "0.3.2",
      "provenance": []
    },
    "language_info": {
      "codemirror_mode": {
        "name": "ipython",
        "version": 3
      },
      "file_extension": ".py",
      "mimetype": "text/x-python",
      "name": "python",
      "nbconvert_exporter": "python",
      "pygments_lexer": "ipython3",
      "version": "3.6.5"
    },
    "kernelspec": {
      "display_name": "Python 3",
      "language": "python",
      "name": "python3"
    }
  },
  "cells": [
    {
      "cell_type": "markdown",
      "metadata": {
        "id": "_YLGmrlCqfzq",
        "colab_type": "text"
      },
      "source": [
        "# Convolutional Neural Networks\n",
        "\n",
        "In this exercise you will be introduced to some practical aspects of deep learning in\n",
        "computer vision, including constructing a deep neural network and training it via gradient\n",
        "descent to tackle image classification.\n",
        "\n",
        "We will use the popular TensorFlow framework through the Keras API.\n",
        "\n",
        "## Install TensorFlow\n",
        "\n",
        "TensorFlow 2.0 will be released soon, but its alpha version is already available. Install it using `pip install tensorflow==2.0.0-alpha0` or if you have an Nvidia GPU, use  `pip install tensorflow-gpu==2.0.0-alpha0`.\n",
        "\n",
        "GPUs make the training many times faster, but since not all of you have an Nvidia GPU available, we have tried to scale the exercise with a CPU in mind.\n",
        "\n",
        "## TensorBoard Plotting\n",
        "\n",
        "TensorBoard is a web-based tool for drawing pretty plots of quantities we care about during training, such as the loss. We need to choose a folder where these values will be stored (\"logdir\").\n",
        "\n",
        "Start the TensorBoard server by executing e.g. `tensorboard --logdir /tmp/tensorboard_logs` after you've activated your conda environment. If you change the logdir, also adjust it in the cell below.\n",
        "\n",
        "You can view the graphs by visiting http://localhost:6006 in your browser (6006 is the default port).\n",
        "At first there will be nothing to plot, so it will be empty. You can also open it afterwards in a separate browser "
      ]
    },
    {
      "cell_type": "code",
      "metadata": {
        "id": "yMCruvJfqiU3",
        "colab_type": "code",
        "outputId": "b4994746-c6c7-4080-9e18-39a7777c2122",
        "colab": {
          "base_uri": "https://localhost:8080/",
          "height": 100
        }
      },
      "source": [
        "!pip install attrdict"
      ],
      "execution_count": 1,
      "outputs": [
        {
          "output_type": "stream",
          "text": [
            "Collecting attrdict\n",
            "  Downloading https://files.pythonhosted.org/packages/ef/97/28fe7e68bc7adfce67d4339756e85e9fcf3c6fd7f0c0781695352b70472c/attrdict-2.0.1-py2.py3-none-any.whl\n",
            "Requirement already satisfied: six in /usr/local/lib/python3.6/dist-packages (from attrdict) (1.12.0)\n",
            "Installing collected packages: attrdict\n",
            "Successfully installed attrdict-2.0.1\n"
          ],
          "name": "stdout"
        }
      ]
    },
    {
      "cell_type": "code",
      "metadata": {
        "id": "vXumMud5qfzr",
        "colab_type": "code",
        "colab": {}
      },
      "source": [
        "log_root= './log/tensorboard_logs'"
      ],
      "execution_count": 0,
      "outputs": []
    },
    {
      "cell_type": "code",
      "metadata": {
        "id": "a8qJiqQeqfzu",
        "colab_type": "code",
        "colab": {}
      },
      "source": [
        "%matplotlib notebook\n",
        "import os\n",
        "#os.environ['CUDA_VISIBLE_DEVICES'] = ''\n",
        "import datetime\n",
        "import tensorflow as tf\n",
        "import numpy as np\n",
        "import matplotlib.pyplot as plt\n",
        "import imageio\n",
        "import cv2\n",
        "from attrdict import AttrDict\n",
        "import tensorflow.keras.models as models\n",
        "import tensorflow.keras.layers as layers\n",
        "import tensorflow.keras.regularizers as regularizers\n",
        "import tensorflow.keras.optimizers as optimizers\n",
        "import tensorflow.keras.callbacks as callbacks\n",
        "import tensorflow.keras.initializers as initializers\n",
        "import tensorflow.keras.preprocessing.image as kerasimage\n",
        "\n",
        "def plot_multiple(images, titles=None, colormap='gray',\n",
        "                  max_columns=np.inf, imwidth=4, imheight=4, share_axes=False):\n",
        "    \"\"\"Plot multiple images as subplots on a grid.\"\"\"\n",
        "    if titles is None:\n",
        "        titles = [''] *len(images)\n",
        "    assert len(images) == len(titles)\n",
        "    n_images = len(images)\n",
        "    n_cols = min(max_columns, n_images)\n",
        "    n_rows = int(np.ceil(n_images / n_cols))\n",
        "    fig, axes = plt.subplots(\n",
        "        n_rows, n_cols, figsize=(n_cols * imwidth, n_rows * imheight),\n",
        "        squeeze=False, sharex=share_axes, sharey=share_axes)\n",
        "\n",
        "    axes = axes.flat\n",
        "    # Hide subplots without content\n",
        "    for ax in axes[n_images:]:\n",
        "        ax.axis('off')\n",
        "        \n",
        "    if not isinstance(colormap, (list,tuple)):\n",
        "        colormaps = [colormap]*n_images\n",
        "    else:\n",
        "        colormaps = colormap\n",
        "\n",
        "    for ax, image, title, cmap in zip(axes, images, titles, colormaps):\n",
        "        ax.imshow(image, cmap=cmap)\n",
        "        ax.set_title(title)\n",
        "        ax.get_xaxis().set_visible(False)\n",
        "        ax.get_yaxis().set_visible(False)\n",
        "        \n",
        "    fig.tight_layout()"
      ],
      "execution_count": 0,
      "outputs": []
    },
    {
      "cell_type": "markdown",
      "metadata": {
        "id": "dQW2qHEnqfzx",
        "colab_type": "text"
      },
      "source": [
        "## Dataset\n",
        "We are going to tackle the classic image classification task using the **CIFAR-10 dataset**, containing 60,000 32x32 RGB images of 10 different classes (10,000 for training and 10,000 for testing). \n",
        "\n",
        "![image.png](cifar.png)\n",
        "\n",
        "The dataset is automatically downloaded if you run the next cell.\n",
        "You may read more about the dataset at https://www.cs.toronto.edu/~kriz/cifar.html.\n",
        "\n",
        "A common normalization strategy is to map the image RGB values to the range 0-1 and subtract the mean pixel value across the training set."
      ]
    },
    {
      "cell_type": "code",
      "metadata": {
        "id": "78_YpUNDqfzy",
        "colab_type": "code",
        "colab": {
          "base_uri": "https://localhost:8080/",
          "height": 50
        },
        "outputId": "4cd060f6-efba-4c73-eba9-00cba9c81519"
      },
      "source": [
        "dataset = tf.keras.datasets.cifar10\n",
        "(im_train, y_train),(im_test, y_test) = dataset.load_data()\n",
        "# Normalize to 0-1 range and subtract mean of training pixels\n",
        "im_train = im_train / 255\n",
        "im_test = im_test / 255\n",
        "\n",
        "mean_training_pixel = np.mean(im_train, axis=(0,1,2))\n",
        "x_train = im_train - mean_training_pixel\n",
        "x_test = im_test - mean_training_pixel\n",
        "\n",
        "image_shape = x_train[0].shape\n",
        "labels = ['airplane','automobile','bird','cat',\n",
        "          'deer','dog','frog','horse','ship','truck']"
      ],
      "execution_count": 4,
      "outputs": [
        {
          "output_type": "stream",
          "text": [
            "Downloading data from https://www.cs.toronto.edu/~kriz/cifar-10-python.tar.gz\n",
            "170500096/170498071 [==============================] - 2s 0us/step\n"
          ],
          "name": "stdout"
        }
      ]
    },
    {
      "cell_type": "markdown",
      "metadata": {
        "id": "yTLEWi1jqfz0",
        "colab_type": "text"
      },
      "source": [
        "## Classification by Softmax Regression\n",
        "\n",
        "Before considering convolutional neural networks, let us start with a simpler classifier called softmax regression (a.k.a. multinomial logistic regression). Note that even though the name contains \"regression\", this is a classification model.\n",
        "\n",
        "It can be understood as a single-layer neural network. We first flatten our input image to a long vector $\\mathbf{x}$, consisting of $32\\cdot 32\\cdot 3= 3072$ values. Then we predict class probabilities $\\hat{\\mathbf{y}}$ using a linear layer with softmax activation:\n",
        "\n",
        "$$\n",
        "\\mathbf{z} = W \\mathbf{x} + \\mathbf{b}\n",
        "$$\n",
        "\n",
        "$$\n",
        "\\hat{y}_c = \\operatorname{softmax}(\\mathbf{z})_c = \\frac{\\exp{z_c}}{\\sum_{\\tilde{c}=1}^{10} \\exp{z_{\\tilde{c}}}}\n",
        "$$\n",
        "\n",
        "Here $z_c$ denotes the $c$th component of the vector $\\mathbf{z}$, called the vector of **logits**. \n",
        "The weights $W$ and biases $\\mathbf{b}$ will be learned during training.\n",
        "\n",
        "## Training\n",
        "\n",
        "We train the model by minimizing a **loss function** averaged over the training data. As we are tackling a classification problem, the **cross-entropy** is the suitable loss function:\n",
        "\n",
        "$$\n",
        "\\mathcal{L}_{CE}(\\mathbf{y}, \\hat{\\mathbf{y}}; W, \\mathbf{b}) = - \\sum_{c=1}^{10} y_c \\log{\\hat{y}_c}\n",
        "$$\n",
        "\n",
        "Note that in the above notation the ground-truth $\\mathbf{y}$ is a so-called **one-hot vector**, containing a single 1 while the remaining components \n",
        "are zeros. Conversely, $\\hat{\\mathbf{y}}$ is a vector which sums to one, but where all components take continuous values in $(0, 1)$. What is the intuition behind this loss function?\n",
        "\n",
        "We minimize the loss by **stochastic gradient descent** (SGD). That is, we repeatedly sample mini-batches from the training data and update the parameters (weights and biases) towards the direction of the steepest decrease of the loss averaged over the mini-batch. For example, the weight $w_{ij}$ (an element of the matrix $W$) is updated according to:\n",
        "\n",
        "$$\n",
        "w_{ij}^{(t+1)} = w_{ij}^{(t)} - \\eta \\cdot \\frac{\\partial \\mathcal{L}_{CE}} {\\partial w_{ij}},\n",
        "$$\n",
        "\n",
        "with $\\eta$ being the learning rate.\n",
        "\n",
        "----\n",
        "\n",
        "This is all very simple to perform in Keras. `models.Sequential` accepts a list of layers that are applied sequentially, in a chain. Here we have two layers, `Flatten` to convert the image into a long vector and `Dense`, which is a fully-connected layer."
      ]
    },
    {
      "cell_type": "code",
      "metadata": {
        "id": "8hW_Nxzlqfz1",
        "colab_type": "code",
        "outputId": "07d114a2-790b-4255-d059-5a2a41746a21",
        "colab": {
          "base_uri": "https://localhost:8080/",
          "height": 1037
        }
      },
      "source": [
        "softmax_regression = models.Sequential([\n",
        "    layers.Flatten(input_shape=image_shape),\n",
        "    layers.Dense(10, activation='softmax')],\n",
        "    name='linear')\n",
        "\n",
        "def train_model(model, batch_size=128, n_epochs=30, optimizer=optimizers.SGD,\n",
        "                learning_rate=1e-2):\n",
        "    opt = optimizer(lr=learning_rate)\n",
        "    model.compile(\n",
        "        optimizer=opt, loss='sparse_categorical_crossentropy', \n",
        "        metrics=['accuracy'])\n",
        "    \n",
        "    timestamp = datetime.datetime.now().strftime('%Y%m%d-%H%M%S')\n",
        "    logdir = os.path.join(log_root, f'{model.name}_{timestamp}')\n",
        "    tensorboard_callback = callbacks.TensorBoard(logdir, histogram_freq=1)\n",
        "    model.fit(x=x_train, y=y_train, verbose=1, epochs=n_epochs, \n",
        "              validation_data=(x_test, y_test), batch_size=batch_size,\n",
        "              callbacks=[tensorboard_callback])\n",
        "\n",
        "train_model(softmax_regression, optimizer=optimizers.SGD, learning_rate=1e-2)"
      ],
      "execution_count": 6,
      "outputs": [
        {
          "output_type": "stream",
          "text": [
            "Train on 50000 samples, validate on 10000 samples\n",
            "Epoch 1/30\n",
            "50000/50000 [==============================] - 6s 116us/sample - loss: 1.9949 - acc: 0.2969 - val_loss: 1.8932 - val_acc: 0.3492\n",
            "Epoch 2/30\n",
            "50000/50000 [==============================] - 5s 104us/sample - loss: 1.8652 - acc: 0.3600 - val_loss: 1.8364 - val_acc: 0.3672\n",
            "Epoch 3/30\n",
            "50000/50000 [==============================] - 5s 101us/sample - loss: 1.8229 - acc: 0.3775 - val_loss: 1.8082 - val_acc: 0.3796\n",
            "Epoch 4/30\n",
            "50000/50000 [==============================] - 5s 100us/sample - loss: 1.7978 - acc: 0.3874 - val_loss: 1.7896 - val_acc: 0.3868\n",
            "Epoch 5/30\n",
            "50000/50000 [==============================] - 5s 98us/sample - loss: 1.7804 - acc: 0.3935 - val_loss: 1.7771 - val_acc: 0.3885\n",
            "Epoch 6/30\n",
            "50000/50000 [==============================] - 5s 90us/sample - loss: 1.7671 - acc: 0.3986 - val_loss: 1.7643 - val_acc: 0.3953\n",
            "Epoch 7/30\n",
            "50000/50000 [==============================] - 4s 90us/sample - loss: 1.7567 - acc: 0.4026 - val_loss: 1.7577 - val_acc: 0.3972\n",
            "Epoch 8/30\n",
            "50000/50000 [==============================] - 5s 91us/sample - loss: 1.7479 - acc: 0.4047 - val_loss: 1.7515 - val_acc: 0.3987\n",
            "Epoch 9/30\n",
            "50000/50000 [==============================] - 4s 89us/sample - loss: 1.7408 - acc: 0.4064 - val_loss: 1.7447 - val_acc: 0.4003\n",
            "Epoch 10/30\n",
            "50000/50000 [==============================] - 5s 90us/sample - loss: 1.7344 - acc: 0.4092 - val_loss: 1.7412 - val_acc: 0.4018\n",
            "Epoch 11/30\n",
            "50000/50000 [==============================] - 5s 93us/sample - loss: 1.7289 - acc: 0.4117 - val_loss: 1.7366 - val_acc: 0.4051\n",
            "Epoch 12/30\n",
            "50000/50000 [==============================] - 5s 92us/sample - loss: 1.7239 - acc: 0.4131 - val_loss: 1.7335 - val_acc: 0.4014\n",
            "Epoch 13/30\n",
            "50000/50000 [==============================] - 5s 92us/sample - loss: 1.7197 - acc: 0.4149 - val_loss: 1.7315 - val_acc: 0.4040\n",
            "Epoch 14/30\n",
            "50000/50000 [==============================] - 5s 92us/sample - loss: 1.7158 - acc: 0.4158 - val_loss: 1.7286 - val_acc: 0.4043\n",
            "Epoch 15/30\n",
            "50000/50000 [==============================] - 5s 92us/sample - loss: 1.7122 - acc: 0.4162 - val_loss: 1.7272 - val_acc: 0.4066\n",
            "Epoch 16/30\n",
            "50000/50000 [==============================] - 4s 90us/sample - loss: 1.7091 - acc: 0.4185 - val_loss: 1.7263 - val_acc: 0.4051\n",
            "Epoch 17/30\n",
            "50000/50000 [==============================] - 5s 91us/sample - loss: 1.7061 - acc: 0.4200 - val_loss: 1.7225 - val_acc: 0.4076\n",
            "Epoch 18/30\n",
            "50000/50000 [==============================] - 5s 90us/sample - loss: 1.7033 - acc: 0.4201 - val_loss: 1.7210 - val_acc: 0.4086\n",
            "Epoch 19/30\n",
            "50000/50000 [==============================] - 5s 95us/sample - loss: 1.7008 - acc: 0.4215 - val_loss: 1.7205 - val_acc: 0.4077\n",
            "Epoch 20/30\n",
            "50000/50000 [==============================] - 5s 94us/sample - loss: 1.6982 - acc: 0.4223 - val_loss: 1.7181 - val_acc: 0.4071\n",
            "Epoch 21/30\n",
            "50000/50000 [==============================] - 5s 94us/sample - loss: 1.6961 - acc: 0.4239 - val_loss: 1.7178 - val_acc: 0.4083\n",
            "Epoch 22/30\n",
            "50000/50000 [==============================] - 5s 99us/sample - loss: 1.6940 - acc: 0.4237 - val_loss: 1.7159 - val_acc: 0.4087\n",
            "Epoch 23/30\n",
            "50000/50000 [==============================] - 5s 99us/sample - loss: 1.6921 - acc: 0.4240 - val_loss: 1.7157 - val_acc: 0.4083\n",
            "Epoch 24/30\n",
            "50000/50000 [==============================] - 5s 99us/sample - loss: 1.6901 - acc: 0.4261 - val_loss: 1.7150 - val_acc: 0.4089\n",
            "Epoch 25/30\n",
            "50000/50000 [==============================] - 5s 105us/sample - loss: 1.6884 - acc: 0.4257 - val_loss: 1.7123 - val_acc: 0.4090\n",
            "Epoch 26/30\n",
            "50000/50000 [==============================] - 5s 105us/sample - loss: 1.6867 - acc: 0.4273 - val_loss: 1.7128 - val_acc: 0.4088\n",
            "Epoch 27/30\n",
            "50000/50000 [==============================] - 5s 105us/sample - loss: 1.6852 - acc: 0.4273 - val_loss: 1.7101 - val_acc: 0.4100\n",
            "Epoch 28/30\n",
            "50000/50000 [==============================] - 5s 100us/sample - loss: 1.6834 - acc: 0.4285 - val_loss: 1.7102 - val_acc: 0.4111\n",
            "Epoch 29/30\n",
            "50000/50000 [==============================] - 5s 100us/sample - loss: 1.6821 - acc: 0.4292 - val_loss: 1.7099 - val_acc: 0.4090\n",
            "Epoch 30/30\n",
            "50000/50000 [==============================] - 5s 99us/sample - loss: 1.6804 - acc: 0.4299 - val_loss: 1.7101 - val_acc: 0.4086\n"
          ],
          "name": "stdout"
        }
      ]
    },
    {
      "cell_type": "markdown",
      "metadata": {
        "id": "Cs8YG8ZNqfz6",
        "colab_type": "text"
      },
      "source": [
        "(Jupyter Notebook Tip: After you're done training, you can collapse or hide the output by clicking or double clicking the area directly to the left of the output.)\n",
        "\n",
        "You can check the how the loss and accuracy change over the course of trainng in TensorBoard.\n",
        "\n",
        "What would be the cross-entropy loss for a dummy classifier that always outputs equal probabilities for all the classes? "
      ]
    },
    {
      "cell_type": "markdown",
      "metadata": {
        "id": "rqd3o_-oqfz6",
        "colab_type": "text"
      },
      "source": [
        "## Adam Optimizer\n",
        "\n",
        "There has been a lot of research on improving on the simple stochastic gradient descent algorithm. One of the most popular variants is called **Adam** (https://arxiv.org/abs/1412.6980, \"adaptive moment estimation\"). Its learning rate usually requires less precise tuning, and something in the range of $(10^{-4},10^{-3})$ often works well in practice. This is because the algorithm automatically adapts the learning rate for each weight depending on the gradients.\n",
        "\n",
        "You can run it as follows (the optimizer is passed to Keras's `model.fit` function in `train_model`). The difference is not large for such a simple model, but makes a bigger difference for larger networks."
      ]
    },
    {
      "cell_type": "code",
      "metadata": {
        "id": "mOxYiKizqfz7",
        "colab_type": "code",
        "outputId": "72a141a7-d3e4-4a11-a52b-f9df81019dad",
        "colab": {
          "base_uri": "https://localhost:8080/",
          "height": 1037
        }
      },
      "source": [
        "tf.reset_default_graph()\n",
        "\n",
        "softmax_regression = models.Sequential([\n",
        "    layers.Flatten(input_shape=image_shape),\n",
        "    layers.Dense(10, activation='softmax')],\n",
        "    name='linear')\n",
        "\n",
        "train_model(softmax_regression, optimizer=optimizers.Adam, n_epochs=30,\n",
        "            learning_rate=2e-4)"
      ],
      "execution_count": 0,
      "outputs": [
        {
          "output_type": "stream",
          "text": [
            "Train on 50000 samples, validate on 10000 samples\n",
            "Epoch 1/30\n",
            "50000/50000 [==============================] - 4s 87us/sample - loss: 1.9205 - acc: 0.3354 - val_loss: 1.8304 - val_acc: 0.3693\n",
            "Epoch 2/30\n",
            "50000/50000 [==============================] - 4s 82us/sample - loss: 1.8049 - acc: 0.3854 - val_loss: 1.7873 - val_acc: 0.3865\n",
            "Epoch 3/30\n",
            "50000/50000 [==============================] - 4s 85us/sample - loss: 1.7712 - acc: 0.3978 - val_loss: 1.7660 - val_acc: 0.3935\n",
            "Epoch 4/30\n",
            "50000/50000 [==============================] - 4s 84us/sample - loss: 1.7502 - acc: 0.4051 - val_loss: 1.7513 - val_acc: 0.4003\n",
            "Epoch 5/30\n",
            "50000/50000 [==============================] - 4s 85us/sample - loss: 1.7354 - acc: 0.4122 - val_loss: 1.7409 - val_acc: 0.4035\n",
            "Epoch 6/30\n",
            "50000/50000 [==============================] - 4s 85us/sample - loss: 1.7239 - acc: 0.4149 - val_loss: 1.7342 - val_acc: 0.4066\n",
            "Epoch 7/30\n",
            "50000/50000 [==============================] - 4s 84us/sample - loss: 1.7139 - acc: 0.4177 - val_loss: 1.7289 - val_acc: 0.4067\n",
            "Epoch 8/30\n",
            "50000/50000 [==============================] - 4s 82us/sample - loss: 1.7065 - acc: 0.4205 - val_loss: 1.7241 - val_acc: 0.4101\n",
            "Epoch 9/30\n",
            "50000/50000 [==============================] - 4s 82us/sample - loss: 1.6992 - acc: 0.4237 - val_loss: 1.7213 - val_acc: 0.4080\n",
            "Epoch 10/30\n",
            "50000/50000 [==============================] - 4s 84us/sample - loss: 1.6939 - acc: 0.4242 - val_loss: 1.7213 - val_acc: 0.4109\n",
            "Epoch 11/30\n",
            "50000/50000 [==============================] - 4s 84us/sample - loss: 1.6886 - acc: 0.4273 - val_loss: 1.7181 - val_acc: 0.4085\n",
            "Epoch 12/30\n",
            "50000/50000 [==============================] - 4s 84us/sample - loss: 1.6842 - acc: 0.4287 - val_loss: 1.7182 - val_acc: 0.4059\n",
            "Epoch 13/30\n",
            "50000/50000 [==============================] - 4s 83us/sample - loss: 1.6802 - acc: 0.4305 - val_loss: 1.7126 - val_acc: 0.4119\n",
            "Epoch 14/30\n",
            "50000/50000 [==============================] - 4s 81us/sample - loss: 1.6768 - acc: 0.4303 - val_loss: 1.7127 - val_acc: 0.4104\n",
            "Epoch 15/30\n",
            "50000/50000 [==============================] - 4s 85us/sample - loss: 1.6731 - acc: 0.4341 - val_loss: 1.7116 - val_acc: 0.4119\n",
            "Epoch 16/30\n",
            "50000/50000 [==============================] - 4s 85us/sample - loss: 1.6705 - acc: 0.4342 - val_loss: 1.7124 - val_acc: 0.4103\n",
            "Epoch 17/30\n",
            "50000/50000 [==============================] - 4s 84us/sample - loss: 1.6680 - acc: 0.4347 - val_loss: 1.7108 - val_acc: 0.4102\n",
            "Epoch 18/30\n",
            "50000/50000 [==============================] - 4s 84us/sample - loss: 1.6659 - acc: 0.4359 - val_loss: 1.7087 - val_acc: 0.4134\n",
            "Epoch 19/30\n",
            "50000/50000 [==============================] - 4s 85us/sample - loss: 1.6636 - acc: 0.4359 - val_loss: 1.7089 - val_acc: 0.4132\n",
            "Epoch 20/30\n",
            "50000/50000 [==============================] - 4s 82us/sample - loss: 1.6613 - acc: 0.4386 - val_loss: 1.7096 - val_acc: 0.4099\n",
            "Epoch 21/30\n",
            "50000/50000 [==============================] - 4s 87us/sample - loss: 1.6589 - acc: 0.4379 - val_loss: 1.7067 - val_acc: 0.4110\n",
            "Epoch 22/30\n",
            "50000/50000 [==============================] - 4s 88us/sample - loss: 1.6572 - acc: 0.4387 - val_loss: 1.7068 - val_acc: 0.4115\n",
            "Epoch 23/30\n",
            "50000/50000 [==============================] - 4s 88us/sample - loss: 1.6554 - acc: 0.4406 - val_loss: 1.7087 - val_acc: 0.4075\n",
            "Epoch 24/30\n",
            "50000/50000 [==============================] - 4s 84us/sample - loss: 1.6541 - acc: 0.4391 - val_loss: 1.7083 - val_acc: 0.4088\n",
            "Epoch 25/30\n",
            "50000/50000 [==============================] - 4s 83us/sample - loss: 1.6518 - acc: 0.4400 - val_loss: 1.7100 - val_acc: 0.4103\n",
            "Epoch 26/30\n",
            "50000/50000 [==============================] - 4s 84us/sample - loss: 1.6506 - acc: 0.4413 - val_loss: 1.7088 - val_acc: 0.4098\n",
            "Epoch 27/30\n",
            "50000/50000 [==============================] - 4s 85us/sample - loss: 1.6494 - acc: 0.4411 - val_loss: 1.7067 - val_acc: 0.4101\n",
            "Epoch 28/30\n",
            "50000/50000 [==============================] - 4s 83us/sample - loss: 1.6477 - acc: 0.4437 - val_loss: 1.7121 - val_acc: 0.4105\n",
            "Epoch 29/30\n",
            "50000/50000 [==============================] - 4s 85us/sample - loss: 1.6469 - acc: 0.4424 - val_loss: 1.7076 - val_acc: 0.4137\n",
            "Epoch 30/30\n",
            "50000/50000 [==============================] - 4s 82us/sample - loss: 1.6456 - acc: 0.4443 - val_loss: 1.7097 - val_acc: 0.4145\n"
          ],
          "name": "stdout"
        }
      ]
    },
    {
      "cell_type": "markdown",
      "metadata": {
        "id": "gNSpCu64qfz-",
        "colab_type": "text"
      },
      "source": [
        "The learned weights $W$ can be interpreted as templates. Why is this so? Do they look as you would expect?"
      ]
    },
    {
      "cell_type": "code",
      "metadata": {
        "id": "ppYzVARKsbRH",
        "colab_type": "code",
        "colab": {}
      },
      "source": [
        "%matplotlib inline"
      ],
      "execution_count": 0,
      "outputs": []
    },
    {
      "cell_type": "code",
      "metadata": {
        "id": "5tkuP0YWqfz-",
        "colab_type": "code",
        "outputId": "cc0baa63-8e5e-4310-e21d-6ee3418569c1",
        "colab": {
          "base_uri": "https://localhost:8080/",
          "height": 153
        }
      },
      "source": [
        "W, b = softmax_regression.layers[1].get_weights()\n",
        "templates = W.reshape(32,32,3,10).transpose(3,0,1,2)\n",
        "mini = np.min(templates, axis=(1,2,3), keepdims=True)\n",
        "maxi = np.max(templates, axis=(1,2,3), keepdims=True)\n",
        "rescaled_templates = (templates - mini)/ (maxi-mini)\n",
        "plot_multiple(rescaled_templates, labels, max_columns=5,\n",
        "              imwidth=1, imheight=1)"
      ],
      "execution_count": 0,
      "outputs": [
        {
          "output_type": "display_data",
          "data": {
            "image/png": "[encoded data removed]",
            "text/plain": [
              "<Figure size 360x144 with 10 Axes>"
            ]
          },
          "metadata": {
            "tags": []
          }
        }
      ]
    },
    {
      "cell_type": "markdown",
      "metadata": {
        "id": "82LxXzrHqf0B",
        "colab_type": "text"
      },
      "source": [
        "## Multi-Layer Perceptron\n",
        "\n",
        "Softmax regression has a big limitation: the decision surface between any two classes (i.e. the part of the input space where the classification decision changes from one class to another) is a simple hyperplane (\"flat\").\n",
        "\n",
        "The **multi-layer perceptron** (MLP) is a neural network model with additional layer(s) between the input and the logits (so-called hidden layers), with nonlinear activation functions. Why are activation functions needed?\n",
        "\n",
        "Before recent years, the **hyperbolic tangent** (tanh) function used to be the preferred activation function in hidden layers of MLPs. It is sigmoid shaped and has a range of $(-1,1)$. We can create this in Keras as follows. Does it obtain better results than the linear model?"
      ]
    },
    {
      "cell_type": "code",
      "metadata": {
        "id": "k8PzF1Buqf0C",
        "colab_type": "code",
        "outputId": "ff6b42db-7e11-4f6f-da04-05df0ac09b91",
        "colab": {
          "base_uri": "https://localhost:8080/",
          "height": 1037
        }
      },
      "source": [
        "tf.reset_default_graph()\n",
        "\n",
        "tanh_mlp = models.Sequential([\n",
        "    layers.Flatten(input_shape=image_shape),\n",
        "    layers.Dense(512, activation='tanh'),\n",
        "    layers.Dense(10, activation='softmax')],\n",
        "    name='tanh_mlp')\n",
        "\n",
        "train_model(tanh_mlp, optimizer=optimizers.Adam, learning_rate=2e-4)"
      ],
      "execution_count": 0,
      "outputs": [
        {
          "output_type": "stream",
          "text": [
            "Train on 50000 samples, validate on 10000 samples\n",
            "Epoch 1/30\n",
            "50000/50000 [==============================] - 18s 362us/sample - loss: 1.8108 - acc: 0.3714 - val_loss: 1.7323 - val_acc: 0.4033\n",
            "Epoch 2/30\n",
            "50000/50000 [==============================] - 18s 365us/sample - loss: 1.6828 - acc: 0.4211 - val_loss: 1.6694 - val_acc: 0.4289\n",
            "Epoch 3/30\n",
            "50000/50000 [==============================] - 18s 367us/sample - loss: 1.6161 - acc: 0.4473 - val_loss: 1.6354 - val_acc: 0.4361\n",
            "Epoch 4/30\n",
            "50000/50000 [==============================] - 18s 366us/sample - loss: 1.5635 - acc: 0.4672 - val_loss: 1.6126 - val_acc: 0.4451\n",
            "Epoch 5/30\n",
            "50000/50000 [==============================] - 18s 369us/sample - loss: 1.5162 - acc: 0.4835 - val_loss: 1.5824 - val_acc: 0.4563\n",
            "Epoch 6/30\n",
            "50000/50000 [==============================] - 18s 366us/sample - loss: 1.4752 - acc: 0.5024 - val_loss: 1.5601 - val_acc: 0.4626\n",
            "Epoch 7/30\n",
            "50000/50000 [==============================] - 18s 366us/sample - loss: 1.4338 - acc: 0.5153 - val_loss: 1.5442 - val_acc: 0.4641\n",
            "Epoch 8/30\n",
            "50000/50000 [==============================] - 18s 365us/sample - loss: 1.3926 - acc: 0.5305 - val_loss: 1.5210 - val_acc: 0.4775\n",
            "Epoch 9/30\n",
            "50000/50000 [==============================] - 19s 372us/sample - loss: 1.3554 - acc: 0.5425 - val_loss: 1.5190 - val_acc: 0.4762\n",
            "Epoch 10/30\n",
            "50000/50000 [==============================] - 18s 370us/sample - loss: 1.3194 - acc: 0.5577 - val_loss: 1.5065 - val_acc: 0.4803\n",
            "Epoch 11/30\n",
            "50000/50000 [==============================] - 19s 370us/sample - loss: 1.2848 - acc: 0.5699 - val_loss: 1.4951 - val_acc: 0.4856\n",
            "Epoch 12/30\n",
            "50000/50000 [==============================] - 19s 373us/sample - loss: 1.2504 - acc: 0.5832 - val_loss: 1.4853 - val_acc: 0.4891\n",
            "Epoch 13/30\n",
            "50000/50000 [==============================] - 19s 373us/sample - loss: 1.2154 - acc: 0.5971 - val_loss: 1.4797 - val_acc: 0.4870\n",
            "Epoch 14/30\n",
            "50000/50000 [==============================] - 19s 373us/sample - loss: 1.1822 - acc: 0.6101 - val_loss: 1.4814 - val_acc: 0.4882\n",
            "Epoch 15/30\n",
            "50000/50000 [==============================] - 19s 373us/sample - loss: 1.1470 - acc: 0.6234 - val_loss: 1.4775 - val_acc: 0.4888\n",
            "Epoch 16/30\n",
            "50000/50000 [==============================] - 19s 370us/sample - loss: 1.1167 - acc: 0.6357 - val_loss: 1.4713 - val_acc: 0.4896\n",
            "Epoch 17/30\n",
            "50000/50000 [==============================] - 19s 374us/sample - loss: 1.0845 - acc: 0.6449 - val_loss: 1.4731 - val_acc: 0.4925\n",
            "Epoch 18/30\n",
            "50000/50000 [==============================] - 19s 375us/sample - loss: 1.0510 - acc: 0.6603 - val_loss: 1.4720 - val_acc: 0.4916\n",
            "Epoch 19/30\n",
            "50000/50000 [==============================] - 19s 376us/sample - loss: 1.0185 - acc: 0.6737 - val_loss: 1.4687 - val_acc: 0.4941\n",
            "Epoch 20/30\n",
            "50000/50000 [==============================] - 19s 373us/sample - loss: 0.9898 - acc: 0.6839 - val_loss: 1.4699 - val_acc: 0.4975\n",
            "Epoch 21/30\n",
            "50000/50000 [==============================] - 19s 376us/sample - loss: 0.9578 - acc: 0.6967 - val_loss: 1.4885 - val_acc: 0.4883\n",
            "Epoch 22/30\n",
            "50000/50000 [==============================] - 19s 376us/sample - loss: 0.9291 - acc: 0.7064 - val_loss: 1.4722 - val_acc: 0.4952\n",
            "Epoch 23/30\n",
            "50000/50000 [==============================] - 19s 374us/sample - loss: 0.9005 - acc: 0.7190 - val_loss: 1.4777 - val_acc: 0.4940\n",
            "Epoch 24/30\n",
            "50000/50000 [==============================] - 19s 375us/sample - loss: 0.8717 - acc: 0.7297 - val_loss: 1.4654 - val_acc: 0.4984\n",
            "Epoch 25/30\n",
            "50000/50000 [==============================] - 19s 382us/sample - loss: 0.8428 - acc: 0.7400 - val_loss: 1.4779 - val_acc: 0.4965\n",
            "Epoch 26/30\n",
            "50000/50000 [==============================] - 19s 382us/sample - loss: 0.8152 - acc: 0.7515 - val_loss: 1.4895 - val_acc: 0.4955\n",
            "Epoch 27/30\n",
            "50000/50000 [==============================] - 19s 385us/sample - loss: 0.7871 - acc: 0.7633 - val_loss: 1.4927 - val_acc: 0.4984\n",
            "Epoch 28/30\n",
            "50000/50000 [==============================] - 19s 382us/sample - loss: 0.7615 - acc: 0.7720 - val_loss: 1.5058 - val_acc: 0.4939\n",
            "Epoch 29/30\n",
            "50000/50000 [==============================] - 19s 383us/sample - loss: 0.7363 - acc: 0.7838 - val_loss: 1.5003 - val_acc: 0.4988\n",
            "Epoch 30/30\n",
            "50000/50000 [==============================] - 19s 386us/sample - loss: 0.7104 - acc: 0.7936 - val_loss: 1.5187 - val_acc: 0.4932\n"
          ],
          "name": "stdout"
        }
      ]
    },
    {
      "cell_type": "markdown",
      "metadata": {
        "id": "kfYIMQWqqf0E",
        "colab_type": "text"
      },
      "source": [
        "## ReLU\n",
        "\n",
        "The ReLU activation function has become more popular in recent years, especially for deeper nets. Create and train an MLP that uses ReLU as the activation. Do the results change? What benefits does ReLU have against tanh?\n",
        "\n",
        "Good random initialization of weights is important (espeacially for deeper networks). For layers followed by ReLU activation, He et al. (https://arxiv.org/abs/1502.01852) recommend initializing the weights by sampling from a distribution with variance $2/fan_{in}$, where fan in refers to the number of inputs to each unit in the layer. This can be used in Keras simply by setting `kernel_initializer='he_normal'`."
      ]
    },
    {
      "cell_type": "markdown",
      "metadata": {
        "deletable": false,
        "nbgrader": {
          "checksum": "05d6ae30fdb61c0ac00b0606853fb3dc",
          "grade": true,
          "grade_id": "cell-e96f4ec268fbbe6c",
          "locked": false,
          "points": 0,
          "schema_version": 1,
          "solution": true
        },
        "id": "4jLtl626qf0F",
        "colab_type": "text"
      },
      "source": [
        "YOUR ANSWER HERE"
      ]
    },
    {
      "cell_type": "code",
      "metadata": {
        "id": "9_AAHQ5lqf0G",
        "colab_type": "code",
        "outputId": "5b553bb5-0363-48ac-b2f8-7b47fd057353",
        "colab": {
          "base_uri": "https://localhost:8080/",
          "height": 1037
        }
      },
      "source": [
        "tf.reset_default_graph()\n",
        "\n",
        "relu_mlp = models.Sequential([\n",
        "    layers.Flatten(input_shape=image_shape),\n",
        "    layers.Dense(512, activation='relu', kernel_initializer='he_normal'),\n",
        "    layers.Dense(10, activation='softmax')],\n",
        "    name='relu_mlp')\n",
        "train_model(relu_mlp, optimizer=optimizers.Adam, learning_rate=2e-4)"
      ],
      "execution_count": 0,
      "outputs": [
        {
          "output_type": "stream",
          "text": [
            "Train on 50000 samples, validate on 10000 samples\n",
            "Epoch 1/30\n",
            "50000/50000 [==============================] - 18s 365us/sample - loss: 1.6637 - acc: 0.4187 - val_loss: 1.5274 - val_acc: 0.4665\n",
            "Epoch 2/30\n",
            "50000/50000 [==============================] - 19s 373us/sample - loss: 1.4618 - acc: 0.4949 - val_loss: 1.4551 - val_acc: 0.4908\n",
            "Epoch 3/30\n",
            "50000/50000 [==============================] - 18s 369us/sample - loss: 1.3692 - acc: 0.5285 - val_loss: 1.4199 - val_acc: 0.5014\n",
            "Epoch 4/30\n",
            "50000/50000 [==============================] - 19s 372us/sample - loss: 1.2987 - acc: 0.5538 - val_loss: 1.3806 - val_acc: 0.5184\n",
            "Epoch 5/30\n",
            "50000/50000 [==============================] - 19s 374us/sample - loss: 1.2416 - acc: 0.5766 - val_loss: 1.3707 - val_acc: 0.5197\n",
            "Epoch 6/30\n",
            "50000/50000 [==============================] - 19s 374us/sample - loss: 1.1905 - acc: 0.5935 - val_loss: 1.3631 - val_acc: 0.5195\n",
            "Epoch 7/30\n",
            "50000/50000 [==============================] - 19s 374us/sample - loss: 1.1460 - acc: 0.6118 - val_loss: 1.3524 - val_acc: 0.5307\n",
            "Epoch 8/30\n",
            "50000/50000 [==============================] - 19s 375us/sample - loss: 1.1028 - acc: 0.6273 - val_loss: 1.3357 - val_acc: 0.5401\n",
            "Epoch 9/30\n",
            "50000/50000 [==============================] - 19s 376us/sample - loss: 1.0627 - acc: 0.6434 - val_loss: 1.3296 - val_acc: 0.5407\n",
            "Epoch 10/30\n",
            "50000/50000 [==============================] - 19s 373us/sample - loss: 1.0283 - acc: 0.6558 - val_loss: 1.3257 - val_acc: 0.5396\n",
            "Epoch 11/30\n",
            "50000/50000 [==============================] - 19s 375us/sample - loss: 0.9936 - acc: 0.6699 - val_loss: 1.3206 - val_acc: 0.5454\n",
            "Epoch 12/30\n",
            "50000/50000 [==============================] - 19s 375us/sample - loss: 0.9609 - acc: 0.6813 - val_loss: 1.3174 - val_acc: 0.5436\n",
            "Epoch 13/30\n",
            "50000/50000 [==============================] - 19s 377us/sample - loss: 0.9268 - acc: 0.6940 - val_loss: 1.3169 - val_acc: 0.5453\n",
            "Epoch 14/30\n",
            "50000/50000 [==============================] - 19s 374us/sample - loss: 0.8966 - acc: 0.7061 - val_loss: 1.3158 - val_acc: 0.5465\n",
            "Epoch 15/30\n",
            "50000/50000 [==============================] - 19s 374us/sample - loss: 0.8671 - acc: 0.7182 - val_loss: 1.3230 - val_acc: 0.5443\n",
            "Epoch 16/30\n",
            "50000/50000 [==============================] - 19s 374us/sample - loss: 0.8417 - acc: 0.7259 - val_loss: 1.3310 - val_acc: 0.5447\n",
            "Epoch 17/30\n",
            "50000/50000 [==============================] - 19s 372us/sample - loss: 0.8123 - acc: 0.7361 - val_loss: 1.3520 - val_acc: 0.5403\n",
            "Epoch 18/30\n",
            "50000/50000 [==============================] - 19s 372us/sample - loss: 0.7836 - acc: 0.7476 - val_loss: 1.3358 - val_acc: 0.5450\n",
            "Epoch 19/30\n",
            "50000/50000 [==============================] - 19s 374us/sample - loss: 0.7589 - acc: 0.7578 - val_loss: 1.3536 - val_acc: 0.5470\n",
            "Epoch 20/30\n",
            "50000/50000 [==============================] - 19s 372us/sample - loss: 0.7338 - acc: 0.7682 - val_loss: 1.3458 - val_acc: 0.5476\n",
            "Epoch 21/30\n",
            "50000/50000 [==============================] - 19s 375us/sample - loss: 0.7097 - acc: 0.7761 - val_loss: 1.3516 - val_acc: 0.5488\n",
            "Epoch 22/30\n",
            "50000/50000 [==============================] - 19s 374us/sample - loss: 0.6873 - acc: 0.7862 - val_loss: 1.3560 - val_acc: 0.5501\n",
            "Epoch 23/30\n",
            "50000/50000 [==============================] - 19s 370us/sample - loss: 0.6654 - acc: 0.7920 - val_loss: 1.3771 - val_acc: 0.5506\n",
            "Epoch 24/30\n",
            "50000/50000 [==============================] - 18s 369us/sample - loss: 0.6417 - acc: 0.8016 - val_loss: 1.3691 - val_acc: 0.5479\n",
            "Epoch 25/30\n",
            "50000/50000 [==============================] - 18s 369us/sample - loss: 0.6191 - acc: 0.8114 - val_loss: 1.3982 - val_acc: 0.5405\n",
            "Epoch 26/30\n",
            "50000/50000 [==============================] - 19s 380us/sample - loss: 0.5985 - acc: 0.8197 - val_loss: 1.3973 - val_acc: 0.5475\n",
            "Epoch 27/30\n",
            "50000/50000 [==============================] - 19s 378us/sample - loss: 0.5779 - acc: 0.8267 - val_loss: 1.4258 - val_acc: 0.5405\n",
            "Epoch 28/30\n",
            "50000/50000 [==============================] - 19s 376us/sample - loss: 0.5597 - acc: 0.8329 - val_loss: 1.4179 - val_acc: 0.5446\n",
            "Epoch 29/30\n",
            "50000/50000 [==============================] - 19s 380us/sample - loss: 0.5391 - acc: 0.8421 - val_loss: 1.4205 - val_acc: 0.5484\n",
            "Epoch 30/30\n",
            "50000/50000 [==============================] - 19s 370us/sample - loss: 0.5192 - acc: 0.8488 - val_loss: 1.4394 - val_acc: 0.5406\n"
          ],
          "name": "stdout"
        }
      ]
    },
    {
      "cell_type": "markdown",
      "metadata": {
        "id": "_XPyMzk-qf0J",
        "colab_type": "text"
      },
      "source": [
        "## A Simple Convolutional Neural Network\n",
        "\n",
        "The previous models did not explicitly make use of the grid structure of the image pixels. Convolutional neural networks do.\n",
        "\n",
        "Instead of reshaping the input into a long vector, convolutional layers slide small filters across the input, just as with the convolutional filters we saw earlier in the course. In the earlier parts, we looked at convolution on an image with a single channel in case of grayscale images, or channelwise separate convolutions on RGB images. In CNNs, the multiple input channels of a conv layer are not handled independently, but are linearly combined. This means that the weight array has shape `[kernel_height, kernel_width, num_input_channels, num_output_channels]` and we perform a weighted sum along the channel axis. Another difference is the use of a **bias** vector of shape `[num_output_channels]`, each component of which gets added on the corresponding output channel.\n",
        "\n",
        "As you already know, convolution is a linear operator, so it is possible to express any convolutional layer as a fully-connected layer.\n",
        "However, the convolutional layer's weight matrix is sparse (has many zeros) compared to a fully-connected (\"dense\") layer because each output only depends on a small number of inputs, namely, those within a small neigborhood. Further, the weight values are shared between the different pixel locations.\n",
        "\n",
        "This tutorial has some great visualisations and explanations if you would like to know more: https://arxiv.org/abs/1603.07285.\n",
        "\n",
        "**Q:** Assuming a fixed input image size, do you think the reverse of the above also holds? Can any fully-connected layer be expressed as a convolutional layer?"
      ]
    },
    {
      "cell_type": "markdown",
      "metadata": {
        "deletable": false,
        "nbgrader": {
          "checksum": "e22f3054c49db1b0f317126be61b584b",
          "grade": true,
          "grade_id": "cell-a43655d6b36f378f",
          "locked": false,
          "points": 0,
          "schema_version": 1,
          "solution": true
        },
        "id": "rXaTmrdQqf0K",
        "colab_type": "text"
      },
      "source": [
        "YOUR ANSWER HERE"
      ]
    },
    {
      "cell_type": "markdown",
      "metadata": {
        "id": "9pc2NSvBqf0K",
        "colab_type": "text"
      },
      "source": [
        "**Q:** Technically, what's called a \"convolutional\" layer is usually implemented as a *cross-correlation* computation. Could there be any advantage in using the actual definition of convolution in these layers?"
      ]
    },
    {
      "cell_type": "markdown",
      "metadata": {
        "deletable": false,
        "nbgrader": {
          "checksum": "ac4c1fc0f2dcb7473c7beaf33f315f92",
          "grade": true,
          "grade_id": "cell-9f6f8235182c9277",
          "locked": false,
          "points": 0,
          "schema_version": 1,
          "solution": true
        },
        "id": "9KWPM8_Iqf0L",
        "colab_type": "text"
      },
      "source": [
        "YOUR ANSWER HERE"
      ]
    },
    {
      "cell_type": "markdown",
      "metadata": {
        "id": "eih3b6drqf0M",
        "colab_type": "text"
      },
      "source": [
        "Train the following simple CNN model. It may take about 15 minutes on a CPU."
      ]
    },
    {
      "cell_type": "code",
      "metadata": {
        "id": "jMLgbwx0qf0M",
        "colab_type": "code",
        "colab": {
          "base_uri": "https://localhost:8080/",
          "height": 535
        },
        "outputId": "4841e44e-1fe7-427d-bc57-dfb2a492bb70"
      },
      "source": [
        "tf.reset_default_graph()\n",
        "cnn = models.Sequential([\n",
        "    layers.Conv2D(filters=64, kernel_size=3, activation='relu', \n",
        "                  kernel_initializer='he_uniform', padding='same', \n",
        "                  input_shape=image_shape),\n",
        "    layers.MaxPooling2D(pool_size=2, strides=2),\n",
        "    layers.Conv2D(filters=64, kernel_size=3, activation='relu', \n",
        "                  kernel_initializer='he_uniform', padding='same'),\n",
        "    layers.MaxPooling2D(pool_size=2, strides=2),\n",
        "    layers.Flatten(),\n",
        "    layers.Dense(10, activation='softmax')],\n",
        "    name='cnn')\n",
        "\n",
        "train_model(cnn, optimizer=optimizers.Adam, learning_rate=1e-3, n_epochs=15)"
      ],
      "execution_count": 20,
      "outputs": [
        {
          "output_type": "stream",
          "text": [
            "Train on 50000 samples, validate on 10000 samples\n",
            "Epoch 1/15\n",
            "50000/50000 [==============================] - 164s 3ms/sample - loss: 1.4128 - acc: 0.5041 - val_loss: 1.1541 - val_acc: 0.5983\n",
            "Epoch 2/15\n",
            "50000/50000 [==============================] - 163s 3ms/sample - loss: 1.0308 - acc: 0.6441 - val_loss: 0.9843 - val_acc: 0.6610\n",
            "Epoch 3/15\n",
            "50000/50000 [==============================] - 163s 3ms/sample - loss: 0.9043 - acc: 0.6886 - val_loss: 0.9140 - val_acc: 0.6878\n",
            "Epoch 4/15\n",
            "50000/50000 [==============================] - 163s 3ms/sample - loss: 0.8185 - acc: 0.7177 - val_loss: 0.8978 - val_acc: 0.6938\n",
            "Epoch 5/15\n",
            "50000/50000 [==============================] - 162s 3ms/sample - loss: 0.7555 - acc: 0.7378 - val_loss: 0.8423 - val_acc: 0.7112\n",
            "Epoch 6/15\n",
            "50000/50000 [==============================] - 162s 3ms/sample - loss: 0.7032 - acc: 0.7573 - val_loss: 0.8347 - val_acc: 0.7148\n",
            "Epoch 7/15\n",
            "50000/50000 [==============================] - 162s 3ms/sample - loss: 0.6595 - acc: 0.7720 - val_loss: 0.8218 - val_acc: 0.7198\n",
            "Epoch 8/15\n",
            "50000/50000 [==============================] - 161s 3ms/sample - loss: 0.6210 - acc: 0.7863 - val_loss: 0.8186 - val_acc: 0.7271\n",
            "Epoch 9/15\n",
            "50000/50000 [==============================] - 162s 3ms/sample - loss: 0.5823 - acc: 0.7999 - val_loss: 0.8125 - val_acc: 0.7271\n",
            "Epoch 10/15\n",
            "50000/50000 [==============================] - 162s 3ms/sample - loss: 0.5509 - acc: 0.8104 - val_loss: 0.8521 - val_acc: 0.7159\n",
            "Epoch 11/15\n",
            "50000/50000 [==============================] - 161s 3ms/sample - loss: 0.5220 - acc: 0.8224 - val_loss: 0.8476 - val_acc: 0.7261\n",
            "Epoch 12/15\n",
            "50000/50000 [==============================] - 161s 3ms/sample - loss: 0.4906 - acc: 0.8305 - val_loss: 0.8539 - val_acc: 0.7241\n",
            "Epoch 13/15\n",
            "50000/50000 [==============================] - 161s 3ms/sample - loss: 0.4662 - acc: 0.8396 - val_loss: 0.8510 - val_acc: 0.7266\n",
            "Epoch 14/15\n",
            "50000/50000 [==============================] - 160s 3ms/sample - loss: 0.4436 - acc: 0.8478 - val_loss: 0.8746 - val_acc: 0.7248\n",
            "Epoch 15/15\n",
            "50000/50000 [==============================] - 160s 3ms/sample - loss: 0.4206 - acc: 0.8557 - val_loss: 0.8861 - val_acc: 0.7229\n"
          ],
          "name": "stdout"
        }
      ]
    },
    {
      "cell_type": "markdown",
      "metadata": {
        "id": "RnUjGVzPqf0P",
        "colab_type": "text"
      },
      "source": [
        "**Q:** Does it improve the result? Does it run faster than the MLP? How many parameters does this model have?\n",
        "\n",
        "**Q:** How large is the output space of the first convolutional layer? How does this compare to the size of the hidden layer in the MLP?"
      ]
    },
    {
      "cell_type": "markdown",
      "metadata": {
        "deletable": false,
        "nbgrader": {
          "checksum": "a7357bc2d8c17bb971fff205157ec768",
          "grade": true,
          "grade_id": "cell-e6010db8bc2020df",
          "locked": false,
          "points": 0,
          "schema_version": 1,
          "solution": true
        },
        "id": "NByhNmtTqf0P",
        "colab_type": "text"
      },
      "source": [
        "YOUR ANSWER HERE"
      ]
    },
    {
      "cell_type": "markdown",
      "metadata": {
        "id": "QzaaP4laqf0Q",
        "colab_type": "text"
      },
      "source": [
        "## Implementing a CNN Forward Pass\n",
        "\n",
        "To confirm your understanding of the main CNN components, implement the forward pass of the convolutional, max pooling and dense layers, plus the relu and softmax activation functions. For simplicity, assume a fixed filter size of 3x3 for the convolution, with stride 1 and use zero padding, such that the spatial size does not change ('same' padding). Implement this in `conv3x3_same`. For max pooling assume a fixed 2x2 pooling size and stride 2 in `maxpool2x2`.\n",
        "\n",
        "We can extract the weights from the trained Keras model, feed them and an input through your implementation of the forward pass and compare the results.\n",
        "\n",
        "You can also generalize these to other filter sizes and strides.\n",
        "(Implementation of the backward pass does not fit within this exercise, but the \"Machine Learning\" course of our chair does include such exercises.)"
      ]
    },
    {
      "cell_type": "code",
      "metadata": {
        "deletable": false,
        "nbgrader": {
          "checksum": "ace4e07a3967e489dc98e1007fec899d",
          "grade": true,
          "grade_id": "cell-e8926ce2153b13ca",
          "locked": false,
          "points": 0,
          "schema_version": 1,
          "solution": true
        },
        "id": "gab9k_x1qf0R",
        "colab_type": "code",
        "colab": {
          "base_uri": "https://localhost:8080/",
          "height": 220
        },
        "outputId": "18031b01-9ea9-4f2f-e4ad-1cbe1988b9f6"
      },
      "source": [
        "def zero_pad(x):\n",
        "  \"\"\"\n",
        "  \"\"\"\n",
        "  \n",
        "  x_padded = np.pad(x, ((1, 1), (1, 1), (0, 0)), 'constant', constant_values=0)\n",
        "  \n",
        "  \n",
        "  return x_padded\n",
        "\n",
        "\n",
        "def conv3x3_same(x, weights, biases):\n",
        "    \"\"\"Convolutional layer with filter size 3x3 and 'same' padding.\n",
        "    `x` is a NumPy array of shape [height, width, n_features_in]\n",
        "    `weights` has shape [3, 3, n_features_in, n_features_out]\n",
        "    `biases` has shape [n_features_out]\n",
        "    Return the output of the 3x3 conv (without activation)\n",
        "    \"\"\"\n",
        "    # YOUR CODE HERE\n",
        "    \n",
        "    \n",
        "    x_pad = zero_pad(x)\n",
        "    print(x_pad.shape, x.shape)\n",
        "    stride = 1\n",
        "    \n",
        "    \n",
        "    H, W, C = x.shape\n",
        "    hw, ww, cw, nw = weights.shape\n",
        "    \n",
        "    pad = 1\n",
        "    \n",
        "    result = np.zeros((H, W, nw))\n",
        "    \n",
        "    for f in range(nw):\n",
        "      for h in range(H):\n",
        "        for w in range(W):\n",
        "          h1 = h*stride\n",
        "          h2 = h*stride + hw\n",
        "          w1 = w*stride\n",
        "          w2 = w*stride + ww\n",
        "          window = x_pad[h1:h2, w1:w2, :]\n",
        "          result[h, w, f] = np.sum(window * weights[:, :, :, f]) + biases[f]\n",
        "    \n",
        "    \n",
        "\n",
        "        \n",
        "    return result\n",
        "\n",
        "def maxpool2x2(x):\n",
        "    \"\"\"Max pooling with pool size 2x2 and stride 2.\n",
        "    `x` is a numpy array of shape [height, width, n_features]\n",
        "    \"\"\"\n",
        "    # YOUR CODE HERE\n",
        "    H, W, C = x.shape\n",
        "    pool_height = 2\n",
        "    pool_width = 2\n",
        "    stride = 2\n",
        "    \n",
        "    \n",
        "    H_prime = 1 + (H - pool_height) // stride\n",
        "    W_prime = 1 + (W - pool_width) // stride\n",
        "\n",
        "    out = np.zeros((H_prime, W_prime, C))\n",
        "\n",
        "    \n",
        "    for h in range(H_prime):\n",
        "      for w in range(W_prime):\n",
        "        h1 = h * stride\n",
        "        h2 = h * stride + pool_height\n",
        "        w1 = w * stride\n",
        "        w2 = w * stride + pool_width\n",
        "        window = x[h1:h2, w1:w2, :]\n",
        "        out[h,w, :] = np.max(window.reshape((pool_height*pool_width, C)), axis=0)\n",
        "        \n",
        "    #print(out.shape)\n",
        "    return out\n",
        "\n",
        "def dense(x, weights, biases):\n",
        "    # YOUR CODE HERE\n",
        "    out = np.dot(x, weights) + biases\n",
        "    return out\n",
        "    \n",
        "    \n",
        "def relu(x):\n",
        "    # YOUR CODE HERE\n",
        "    result = x * (x > 0)\n",
        " \n",
        "    return result\n",
        "\n",
        "def softmax(x):\n",
        "    # YOUR CODE HERE\n",
        "    softmax = np.exp(x) / np.sum(np.exp(x))\n",
        "    \n",
        " \n",
        "    return softmax\n",
        "\n",
        "def my_predict_cnn(x, W1, b1, W2, b2, W3, b3):\n",
        "    x = conv3x3_same(x, W1, b1)\n",
        "    x = relu(x)\n",
        "    x = maxpool2x2(x)\n",
        "    x = conv3x3_same(x, W2, b2)\n",
        "    x = relu(x)\n",
        "    x = maxpool2x2(x)\n",
        "    x = x.reshape(-1)\n",
        "    x = dense(x, W3, b3)\n",
        "    x = softmax(x)\n",
        "    return x\n",
        "\n",
        "W1, b1 = cnn.layers[0].get_weights()\n",
        "W2, b2 = cnn.layers[2].get_weights()\n",
        "W3, b3 = cnn.layers[5].get_weights()\n",
        "\n",
        "i_test = 12\n",
        "inp = x_test[i_test]\n",
        "my_prob = my_predict_cnn(inp, W1, b1, W2, b2, W3, b3)\n",
        "keras_prob = cnn.predict(inp[np.newaxis])[0]\n",
        "if np.mean((my_prob-keras_prob)**2) > 1e-10:\n",
        "    print('Something isn\\'t right! Keras gives different'\n",
        "          'results than my_predict_cnn!')\n",
        "else:\n",
        "    print('Congratulations, you got correct results!')\n",
        "   \n",
        "print(\"L\", labels)\n",
        "i_maxpred = np.argmax(my_prob)\n",
        "plot_multiple([im_test[i_test]], \n",
        "              [f'Pred: {labels[i_maxpred]}, {my_prob[i_maxpred]:.1%}'],\n",
        "              imheight=2)"
      ],
      "execution_count": 51,
      "outputs": [
        {
          "output_type": "stream",
          "text": [
            "(34, 34, 3) (32, 32, 3)\n",
            "(18, 18, 64) (16, 16, 64)\n",
            "Congratulations, you got correct results!\n",
            "L ['airplane', 'automobile', 'bird', 'cat', 'deer', 'dog', 'frog', 'horse', 'ship', 'truck']\n"
          ],
          "name": "stdout"
        },
        {
          "output_type": "display_data",
          "data": {
            "image/png": "[encoded data removed]",
            "text/plain": [
              "<Figure size 288x144 with 1 Axes>"
            ]
          },
          "metadata": {
            "tags": []
          }
        }
      ]
    },
    {
      "cell_type": "markdown",
      "metadata": {
        "id": "Xcq6n2_Dqf0T",
        "colab_type": "text"
      },
      "source": [
        "## Batch Normalization\n",
        "\n",
        "Batch normalization is a modern technique to improve and speed up the training of deep neural networks (BatchNorm, Ioffe & Szegedy ICML'15, https://arxiv.org/abs/1502.03167). Each feature channel is normalized to have zero mean and unit variance across the spatial and mini-batch axes. To compensate for the lost degrees of freedom, extra scaling and bias parameters are introduced and learned. Mathematically, BatchNorm for a spatial feature map (e.g. the output of conv) can be written as:\n",
        "\n",
        "$$\n",
        "\\mu_d = \\mathbb{E}\\{x_{\\cdot \\cdot d}\\},\n",
        "$$\n",
        "\n",
        "$$\n",
        "\\sigma_d = \\sqrt{\\operatorname{Var}\\{x_{\\cdot \\cdot d}\\}}\n",
        "$$\n",
        "\n",
        "$$\n",
        "z_{ijd} = \\gamma_d \\cdot \\frac{x_{ijd} - \\mu_d}{\\sigma_d} + \\beta_d,\n",
        "$$\n",
        "\n",
        "with the expectation and variance taken across both the data samples of the batch and the spatial dimensions.\n",
        "\n",
        "The $\\mu_d$ and $\\sigma_d$ values are computed on the actual mini-batch during training, but at test-time they are fixed, so that the prediction of the final system on a given sample does not depend on other samples in the mini-batch. To obtain the fixed values for test-time use, one needs to maintain moving statistics over the activations during training. This can be a bit tricky to implement from scratch, but luckily this is now implemented in all popular frameworks, including TensorFlow and Keras.\n",
        "\n",
        "**Q:** When applying BatchNorm, it is not necessary to use biases in the previous convolutional layer. Can you explain why?\n",
        "\n",
        "**Q:** Furthermore, if the BatchNorm is followed by a linear or conv layer (with perhaps a ReLU in between), it is not necessary to use the $\\gamma_d$ factor in BatchNorm (it can be turned off as `layers.BatchNormalization(scale=False)`). Why?"
      ]
    },
    {
      "cell_type": "markdown",
      "metadata": {
        "deletable": false,
        "nbgrader": {
          "checksum": "4d13b60a4a3b4ad2c4dec7befb6164a1",
          "grade": true,
          "grade_id": "cell-0178a85974e9358e",
          "locked": false,
          "points": 0,
          "schema_version": 1,
          "solution": true
        },
        "id": "i0MKrBbpqf0U",
        "colab_type": "text"
      },
      "source": [
        "YOUR ANSWER HERE"
      ]
    },
    {
      "cell_type": "markdown",
      "metadata": {
        "id": "SSJvlm4mqf0V",
        "colab_type": "text"
      },
      "source": [
        "Create a modified version of the previous model, where the `Conv2D` layers don't include the activation any more, and instead, insert a `layers.BatchNormalization()` and a `layers.Activation('relu')` layer after each conv. Does the resulting model obtain better results?"
      ]
    },
    {
      "cell_type": "code",
      "metadata": {
        "deletable": false,
        "nbgrader": {
          "checksum": "bb6bf102035770ea2139d8ccce776fc3",
          "grade": true,
          "grade_id": "cell-83b754b10f9a5f09",
          "locked": false,
          "points": 0,
          "schema_version": 1,
          "solution": true
        },
        "id": "fqM7twrPqf0V",
        "colab_type": "code",
        "colab": {
          "base_uri": "https://localhost:8080/",
          "height": 100
        },
        "outputId": "19aeb754-47f8-4250-92f6-a1765c6569c1"
      },
      "source": [
        "cnn_batchnorm = ...\n",
        "tf.reset_default_graph()\n",
        "# YOUR CODE HERE\n",
        "cnn_batchnorm = models.Sequential([\n",
        "    layers.Conv2D(filters=64, kernel_size=3, kernel_initializer=\"he_uniform\", padding=\"same\"),\n",
        "    layers.BatchNormalization(),\n",
        "    layers.Activation(\"relu\"),\n",
        "    layers.MaxPooling2D(pool_size=2, strides=2),\n",
        "    layers.Conv2D(filters=64, kernel_size=3, kernel_initializer=\"he_uniform\", padding=\"same\"),\n",
        "    layers.BatchNormalization(),\n",
        "    layers.Activation(\"relu\"),\n",
        "    layers.MaxPooling2D(pool_size=2, strides=2),\n",
        "    layers.Flatten(),\n",
        "    layers.Dense(10, activation=\"softmax\")],\n",
        "    name=\"cnn_batchnorm\")\n",
        "\n",
        "train_model(cnn_batchnorm, optimizer=optimizers.Adam,\n",
        "            learning_rate=1e-3, n_epochs=15)"
      ],
      "execution_count": 0,
      "outputs": [
        {
          "output_type": "stream",
          "text": [
            "Train on 50000 samples, validate on 10000 samples\n",
            "Epoch 1/15\n",
            "50000/50000 [==============================] - 287s 6ms/sample - loss: 1.3997 - acc: 0.5137 - val_loss: 1.2108 - val_acc: 0.5593\n",
            "Epoch 2/15\n",
            "47232/50000 [===========================>..] - ETA: 15s - loss: 1.0144 - acc: 0.6485"
          ],
          "name": "stdout"
        }
      ]
    },
    {
      "cell_type": "markdown",
      "metadata": {
        "id": "exPjmfWUqf0Y",
        "colab_type": "text"
      },
      "source": [
        "## Strided Convolutions\n",
        "\n",
        "Max-pooling is a popular technique for reducing the spatial dimensionality\n",
        "of the outputs from conv layers. However, researchers such as Springenberg et al. have argued\n",
        "that simple striding can achieve similar accuracy (https://arxiv.org/pdf/1412.6806.pdf). \n",
        "\n",
        "Now create a model using the same architecture as before, with the difference of\n",
        "removing the pooling layers and increasing the stride parameter of the conv layers to $2 \\times 2$ in the spatial dimensions. \n",
        "\n",
        "What differences do you notice when running the training?\n",
        "What seems to be a clear advantage for using strides and why?"
      ]
    },
    {
      "cell_type": "code",
      "metadata": {
        "deletable": false,
        "nbgrader": {
          "checksum": "90b79af451700217baba86caabd82836",
          "grade": true,
          "grade_id": "cell-34f5d6a1166b46fa",
          "locked": false,
          "points": 0,
          "schema_version": 1,
          "solution": true
        },
        "id": "naMS0tnAqf0Z",
        "colab_type": "code",
        "colab": {}
      },
      "source": [
        "cnn_strides = ...\n",
        "# YOUR CODE HERE\n",
        "tf.reset_default_graph()\n",
        "cnn_strides = models.Sequential([\n",
        "    layers.Conv2D(filters=64, kernel_size=3, strides=2, kernel_initializer=\"he_uniform\", padding=\"same\"),\n",
        "    layers.BatchNormalization(),\n",
        "    layers.Activation(\"relu\"),\n",
        "    layers.Conv2D(filters=64, kernel_size=3, strides=2, kernel_initializer=\"he_uniform\", padding=\"same\"),\n",
        "    layers.BatchNormalization(),\n",
        "    layers.Activation(\"relu\"),\n",
        "    layers.Flatten(),\n",
        "    layers.Dense(10, activation=\"softmax\")],\n",
        "    name=\"cnn_strides\")\n",
        "\n",
        "train_model(cnn_strides, optimizer=optimizers.Adam,\n",
        "            learning_rate=1e-3, n_epochs=15)"
      ],
      "execution_count": 0,
      "outputs": []
    },
    {
      "cell_type": "markdown",
      "metadata": {
        "id": "nHAeqr3Tqf0c",
        "colab_type": "text"
      },
      "source": [
        "## Global Pooling\n",
        "\n",
        "The above network ends in a `Flatten` layer followed by a `Dense` layer, in which the number of weights depends on the input size. This means that testing can only be performed on the exact same image size. Instead of flattening, several architectures employ a (spatial) **global average pooling layer** to produce of vector of fixed size that is independent of image size, describing the whole image. This is simply the spatial average of the feature values over each feature channel.\n",
        "\n",
        "For this to work well, the units before the average pooling need to have a large enough receptive field. Therefore, compared with the previous model, remove the `Flatten` layer and instead add a third Conv-BatchNorm-ReLU combination, followed by a `layers.GlobalAveragePooling2D()` layer (before the final `Dense` layer).\n",
        "\n",
        "**Q:** Which network has more parameters, this or the previous one?\n",
        "\n",
        "**Q:** What is the receptive field of the units in the layer directly before the global average pooling?\n",
        "\n",
        "Train it and see if it reaches similar accuracy to the previous one."
      ]
    },
    {
      "cell_type": "code",
      "metadata": {
        "deletable": false,
        "nbgrader": {
          "checksum": "b7b0ddeb62690eee1245779e59c1fd83",
          "grade": true,
          "grade_id": "cell-37d949e926b6cfd3",
          "locked": false,
          "points": 0,
          "schema_version": 1,
          "solution": true
        },
        "id": "P6_Ve-79qf0d",
        "colab_type": "code",
        "colab": {}
      },
      "source": [
        "cnn_global_pool = ...\n",
        "tf.reset_default_graph()\n",
        "\n",
        "# YOUR CODE HERE\n",
        "cnn_global_pool = models.Sequential([\n",
        "    layers.Conv2D(64, 3, 2, padding='same', use_bias=False),\n",
        "    layers.BatchNormalization(scale=False),\n",
        "    layers.Activation('relu'),\n",
        "    layers.Conv2D(64, 3, 2, padding='same', use_bias=False),\n",
        "    layers.BatchNormalization(scale=False),\n",
        "    layers.Activation('relu'),\n",
        "    layers.Conv2D(64, 3, padding='same', use_bias=False),\n",
        "    layers.BatchNormalization(scale=False),\n",
        "    layers.Activation('relu'),\n",
        "    layers.GlobalAveragePooling2D(),\n",
        "    layers.Dense(10, activation='softmax')],\n",
        "    name='cnn_global_pool')\n",
        "\n",
        "train_model(cnn_global_pool, optimizer=optimizers.Adam, learning_rate=1e-3)"
      ],
      "execution_count": 0,
      "outputs": []
    },
    {
      "cell_type": "markdown",
      "metadata": {
        "id": "2vmEGUpEqf0g",
        "colab_type": "text"
      },
      "source": [
        "## [BONUS] A More Complex Architecture: ResNet\n",
        "\n",
        "ResNet is a more modern architecture, introduced by He et al. in 2015 (https://www.cv-foundation.org/openaccess/content_cvpr_2016/papers/He_Deep_Residual_Learning_CVPR_2016_paper.pdf).\n",
        "\n",
        "It consists of blocks like the following:\n",
        "\n",
        "![ResNet Block](resnet_block.png)\n",
        "\n",
        "There are several variants of it. In the following, we consider ResNetv1, as used for CIFAR-10 in the original ResNet paper (it is simpler compared to the full model used on the much larger ImageNet benchmark).\n",
        "\n",
        "Section 4.2. of the paper describes this architecture as follows: \"*The first layer is 3×3 convolutions. Then we use a stack of 6n layers with 3×3 convolutions on the feature maps of sizes {32, 16, 8} respectively, with 2n layers for each feature map size. The numbers of filters are {16, 32, 64} respectively. The subsampling is performed by convolutions with a stride of 2. The network ends with a global average pooling, a 10-way fully-connected layer, and softmax. [...] When shortcut connections are used, they are connected to the pairs of 3×3 layers (totally 3n shortcuts). On this dataset we use identity shortcuts in all cases.*\"\n",
        "\n",
        "Further, they use L2 regularization. This penalizes weights with large magnitude by adding an additional term to the cost function, besides the cross-entropy. The overall function we optimize becomes.\n",
        "\n",
        "$$\n",
        "\\mathcal{L}_{CE} + \\frac{\\lambda}{2} \\sum_{w\\in\\text{weights}} w^2,\n",
        "$$\n",
        "\n",
        "and in this paper $\\lambda=10^{-4}$.\n",
        "\n",
        "Inspect the model creation code and verify that it matches the above description."
      ]
    },
    {
      "cell_type": "code",
      "metadata": {
        "id": "uHA3jzoTqf0i",
        "colab_type": "code",
        "colab": {}
      },
      "source": [
        "def resnet(num_layers=56):\n",
        "    if (num_layers - 2) % 6 != 0:\n",
        "        raise ValueError('n_layers should be 6n+2 (eg 20, 32, 44, 56)')\n",
        "    n = (num_layers - 2) // 6\n",
        "        \n",
        "    inputs = layers.Input(shape=image_shape)\n",
        "    \n",
        "    # First layer\n",
        "    x = layers.Conv2D(16, 3, use_bias=False, \n",
        "        kernel_regularizer=regularizers.l2(1e-4),\n",
        "        padding='same', kernel_initializer='he_normal')(inputs)\n",
        "    x = layers.BatchNormalization(scale=False)(x)\n",
        "    x = layers.Activation('relu')(x)\n",
        "    \n",
        "    # Stack blocks\n",
        "    for i_block in range(n):\n",
        "        x = resnet_block(x, 16, strides=1)\n",
        "        \n",
        "    for i_block in range(n):\n",
        "        x = resnet_block(x, 32, strides=2 if i_block==0 else 1)\n",
        "        \n",
        "    for i_block in range(n):\n",
        "        x = resnet_block(x, 64, strides=2 if i_block==0 else 1)\n",
        "\n",
        "    # Global pooling and classifier on top\n",
        "    x = layers.GlobalAveragePooling2D()(x)\n",
        "    outputs = layers.Dense(10, activation='softmax',\n",
        "            kernel_regularizer=regularizers.l2(1e-4))(x)\n",
        "    return models.Model(inputs=inputs, outputs=outputs, name=f'resnet{num_layers}')\n",
        "\n",
        "def resnet_block(x, n_channels_out, strides=1):\n",
        "    # First conv\n",
        "    f = layers.Conv2D(n_channels_out, 3, strides, use_bias=False,\n",
        "            kernel_regularizer=regularizers.l2(1e-4),\n",
        "            padding='same', kernel_initializer='he_normal')(x)\n",
        "    f = layers.BatchNormalization(scale=False)(f)\n",
        "    f = layers.Activation('relu')(f)\n",
        "\n",
        "    # Second conv\n",
        "    f = layers.Conv2D(n_channels_out, 3, use_bias=False,\n",
        "            kernel_regularizer=regularizers.l2(1e-4),\n",
        "            padding='same', kernel_initializer='he_normal')(f)\n",
        "    f = layers.BatchNormalization(scale=False)(f)\n",
        "    \n",
        "    # The shortcut connection is just the identity.\n",
        "    # If feature channel counts differ between input and output,\n",
        "    # zero padding is used to match the depths.\n",
        "    # This is implemented by a Conv2D with fixed weights.\n",
        "    n_channels_in = x.shape[-1]\n",
        "    if n_channels_in != n_channels_out:\n",
        "        # Fixed weights, np.eye returns a matrix with 1s along the \n",
        "        # main diagonal and zeros elsewhere.\n",
        "        identity_weights = np.eye(n_channels_in, n_channels_out, dtype=np.float32)\n",
        "        layer = layers.Conv2D(\n",
        "            n_channels_out, kernel_size=1, strides=strides, use_bias=False, \n",
        "            kernel_initializer=initializers.Constant(value=identity_weights))\n",
        "        # Not learned! Set trainable to False:\n",
        "        layer.trainable = False\n",
        "        x = layer(x)\n",
        "       \n",
        "    # This is where the ResNet magic happens: the shortcut connection is\n",
        "    # added to the residual.\n",
        "    x = layers.add([x, f])\n",
        "    return layers.Activation('relu')(x)"
      ],
      "execution_count": 0,
      "outputs": []
    },
    {
      "cell_type": "markdown",
      "metadata": {
        "id": "1MWrYf4Mqf0k",
        "colab_type": "text"
      },
      "source": [
        "## [BONUS] Learning Rate Decay and Data Augmentation\n",
        "\n",
        "Learning rate decay reduces the learning rate as training progresses. It can be implemented as a Keras callback as a callback as shown below. Fill in the content of `learning_rate_schedule(epoch)`, which returns the learning rate to be used in an epoch (`epoch` is an integer). One possible schedule is the following: $10^{-3}$ for 80 epochs, then drop the learning rate by a factor of 10, train for 40 more epochs and reduce the learning rate by another factor of 10 and train for 30 more epochs. \n",
        "\n",
        "Since ResNet is much larger than the architectures we have looked before, it needs stronger regularization to work well. Data augmentation is one such technique.\n",
        "It perturbs the training examples by e.g. random translation or rotation. Look up the documentation on how to use the `ImageDataGenerator` class of Keras (https://keras.io/preprocessing/image/) and use it in `train_with_lr_decay_and_augmentation`. The ResNet model in the original paper was trained with random translations by $\\pm$ 4 px and random horizontal flipping.\n",
        "\n",
        "If you have a good GPU or lot of time, train ResNet-56 on the CIFAR-10 dataset for about 150 epochs. After 1-2 hours with a GPU, this should result in around 92% accuracy (the state-of-the-art is around 96%). It may also be possible to train this on a CPU in a day or so. If that's too long, you can also train a smaller ResNet, wih `num_layers`=14 or 20, or stop after fewer epochs."
      ]
    },
    {
      "cell_type": "code",
      "metadata": {
        "deletable": false,
        "nbgrader": {
          "checksum": "192f9965aeb10168e142ad0ed366a24d",
          "grade": true,
          "grade_id": "cell-f2042420b7d15963",
          "locked": false,
          "points": 0,
          "schema_version": 1,
          "solution": true
        },
        "id": "7jiC_4D_qf0l",
        "colab_type": "code",
        "colab": {}
      },
      "source": [
        "def learning_rate_schedule(epoch):\n",
        "    \"\"\"Learning rate is scheduled to be reduced after 80 and 120 epochs.\n",
        "    This function is automatically every epoch as part of callbacks\n",
        "    during training.\n",
        "    \"\"\"\n",
        "    \n",
        "    # YOUR CODE HERE\n",
        "    lr = 1e-3\n",
        "    if epoch <= 80 :\n",
        "        return lr\n",
        "    elif epoch <= 120 :\n",
        "        return lr / 10\n",
        "    elif epoch <= 150:\n",
        "        return lr / 100\n",
        "\n",
        "def train_with_lr_decay(model):\n",
        "    model.compile(\n",
        "        loss='sparse_categorical_crossentropy', metrics=['accuracy'],\n",
        "        optimizer=optimizers.Adam(lr=1e-3))\n",
        "\n",
        "    # Callback for learning rate adjustment (see below)\n",
        "    lr_scheduler = callbacks.LearningRateScheduler(learning_rate_schedule)\n",
        "\n",
        "    # TensorBoard callback\n",
        "    timestamp = datetime.datetime.now().strftime('%Y%m%d-%H%M%S')\n",
        "    logdir = os.path.join(log_root, f'{model.name}_{timestamp}')\n",
        "    tensorboard_callback = callbacks.TensorBoard(logdir, histogram_freq=1)\n",
        "    \n",
        "    # Fit the model on the batches generated by datagen.flow()\n",
        "    model.fit(\n",
        "        x_train, y_train, batch_size=128,\n",
        "        validation_data=(x_test, y_test), epochs=150, verbose=1, \n",
        "        callbacks=[lr_scheduler, tensorboard_callback])\n",
        "    \n",
        "def train_with_lr_decay_and_augmentation(model):\n",
        "    model.compile(\n",
        "        loss='sparse_categorical_crossentropy', metrics=['accuracy'],\n",
        "        optimizer=optimizers.Adam(lr=1e-3))\n",
        "\n",
        "    # Callback for learning rate adjustment (see below)\n",
        "    lr_scheduler = callbacks.LearningRateScheduler(learning_rate_schedule)\n",
        "\n",
        "    # TensorBoard callback\n",
        "    timestamp = datetime.datetime.now().strftime('%Y%m%d-%H%M%S')\n",
        "    logdir = os.path.join(log_root, f'{model.name}_{timestamp}')\n",
        "    tensorboard_callback = callbacks.TensorBoard(logdir, histogram_freq=1)\n",
        "\n",
        "    # YOUR CODE HERE\n",
        "    data_augmentation = ImageDataGenerator(height_shift_range=4,width_shift_range=4, horizontal_flip=True)\n",
        "    data_augmentation.fit(x_train)\n",
        "\n",
        "    model.fit_generator(\n",
        "        data_augmentation.flow(x_train, y_train, batch_size=128), steps_per_epoch=len(x_train) / 128,\n",
        "        validation_data=(x_test, y_test), epochs=150, verbose=1,\n",
        "        callbacks=[lr_scheduler, tensorboard_callback])\n",
        "\n",
        "resnet56 = resnet(56)\n",
        "train_with_lr_decay_and_augmentation(resnet56)"
      ],
      "execution_count": 0,
      "outputs": []
    }
  ]
}