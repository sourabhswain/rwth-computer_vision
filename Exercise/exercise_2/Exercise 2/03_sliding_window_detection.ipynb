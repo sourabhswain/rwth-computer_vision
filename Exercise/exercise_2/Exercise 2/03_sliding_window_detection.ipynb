{
 "cells": [
  {
   "cell_type": "markdown",
   "metadata": {},
   "source": [
    "# Sliding-Window Object Detection\n",
    "\n",
    "In this exercise we will implement a simple car detector. To accomplish this, we will first implement a feature descriptor similar to the Histogram of Orientated Gradients (HOG). Then using the features computed for (small) image patches with fixed size, we will train a support vector machine (SVM) classifier, to classify whether the input patch corresponds to a car. \n",
    "\n",
    "In the end, given a test image with arbitary shape, we will run our classifier over the image in a sliding window (patch) fashion. We will generate detections at the places where the classifier is very confident that the patch contains a car.\n",
    "\n",
    "You may refer to the original HOG paper, or the following two tutorials, in case you want to freshen up your knowledge on HOG a little bit:\n",
    "\n",
    "- N. Dalal and B. Triggs: Histograms of oriented gradients for human detection. CVPR 2005. http://lear.inrialpes.fr/people/triggs/pubs/Dalal-cvpr05.pdf\n",
    "- https://www.learnopencv.com/histogram-of-oriented-gradients/\n",
    "- http://mccormickml.com/2013/05/09/hog-person-detector-tutorial/"
   ]
  },
  {
   "cell_type": "code",
   "execution_count": null,
   "metadata": {},
   "outputs": [],
   "source": [
    "%%html\n",
    "<!-- Add heading numbers -->\n",
    "<style>\n",
    "body {counter-reset: section;}\n",
    "h2:before {counter-increment: section;\n",
    "           content: counter(section) \" \";}\n",
    "</style>"
   ]
  },
  {
   "cell_type": "code",
   "execution_count": null,
   "metadata": {},
   "outputs": [],
   "source": [
    "%matplotlib notebook\n",
    "import os\n",
    "import glob\n",
    "import cv2\n",
    "import re\n",
    "import time\n",
    "import numpy as np\n",
    "import matplotlib.pyplot as plt\n",
    "import imageio\n",
    "import sklearn.svm\n",
    "import scipy.ndimage\n",
    "\n",
    "def plot_multiple(images, titles=None, colormap='gray', \n",
    "                  max_columns=np.inf, imwidth=4, imheight=4, share_axes=False):\n",
    "    \"\"\"Plot multiple images as subplots on a grid.\"\"\"\n",
    "    if titles is None:\n",
    "        titles = [''] *len(images)\n",
    "    assert len(images) == len(titles)\n",
    "    n_images = len(images)\n",
    "    n_cols = min(max_columns, n_images)\n",
    "    n_rows = int(np.ceil(n_images / n_cols))\n",
    "    fig, axes = plt.subplots(\n",
    "        n_rows, n_cols, figsize=(n_cols * imwidth, n_rows * imheight),\n",
    "        squeeze=False, sharex=share_axes, sharey=share_axes)\n",
    "\n",
    "    axes = axes.flat\n",
    "    # Hide subplots without content\n",
    "    for ax in axes[n_images:]:\n",
    "        ax.axis('off')\n",
    "        \n",
    "    if not isinstance(colormap, (list,tuple)):\n",
    "        colormaps = [colormap]*n_images\n",
    "    else:\n",
    "        colormaps = colormap\n",
    "\n",
    "    for ax, image, title, cmap in zip(axes, images, titles, colormaps):\n",
    "        ax.imshow(image, cmap=cmap)\n",
    "        ax.set_title(title)\n",
    "        ax.get_xaxis().set_visible(False)\n",
    "        ax.get_yaxis().set_visible(False)\n",
    "        \n",
    "    fig.tight_layout()"
   ]
  },
  {
   "cell_type": "markdown",
   "metadata": {},
   "source": [
    "## Dataset\n",
    "\n",
    "To train our classifier, we will use the *UIUC dataset* (http://cogcomp.org/Data/Car/). Download and extract it, then use the `load_dataset` function to pre-load images (modify `dataset_dir` to the path where you extracted the dataset). The function will return three lists, containing images for positive training sample, negative training sample, and test set."
   ]
  },
  {
   "cell_type": "code",
   "execution_count": null,
   "metadata": {},
   "outputs": [],
   "source": [
    "def load_dataset(dataset_dir):\n",
    "    def natural_sort_key(s):\n",
    "        return [float(t) if t.isdigit() else t for t in re.split('([0-9]+)', s)]\n",
    "    \n",
    "    def load_images(*path_parts):\n",
    "        paths = glob.glob(os.path.join(dataset_dir, *path_parts))\n",
    "        return [imageio.imread(p) for p in sorted(paths, key=natural_sort_key)]\n",
    "        \n",
    "    train_images_pos = load_images('TrainImages', 'pos-*.pgm')\n",
    "    train_images_neg = load_images('TrainImages', 'neg-*.pgm')\n",
    "    test_images = load_images('TestImages', 'test-*.pgm')\n",
    "    assert (len(train_images_pos) == 550 and \n",
    "            len(train_images_neg) == 500 and\n",
    "            len(test_images) == 170)\n",
    "    return train_images_pos, train_images_neg, test_images\n",
    "\n",
    "dataset_dir = '/home/sarandi/main/teaching/cv_ss19/exercise-cv/CarData'\n",
    "train_images_pos, train_images_neg, test_images = load_dataset(dataset_dir)"
   ]
  },
  {
   "cell_type": "markdown",
   "metadata": {},
   "source": [
    "## HOG-like Descriptor\n",
    "First we want to implement a simple HOG-like descriptor `hoglike_descriptor()` which takes an image and computes the corresponding HOG-like representation. The function should take in following arguments:\n",
    "\n",
    "- `image`: the grayscale image,\n",
    "- `cell_size`: the size of each HOG-like cellin both dimensions, \n",
    "- `n_bins` the number of bins for the gradient orientation, \n",
    "\n",
    "The output should be a three dimensional array. The first two dimensions are the spatial indices of the HOG cell. The third dimension describes the orientation bins of the HOG descriptor. Each cell has to be independently $L_2$ normalized to 1. Note that the original HOG descriptor uses a more elaborate two-stage normalization scheme, that is why our version here is only called a \"HOG-like\" descriptor.\n",
    "\n",
    "When the dimensions of the images are not a multiple of the `cell_size`, discard the remaining pixels to the right and to the bottom of the image."
   ]
  },
  {
   "cell_type": "code",
   "execution_count": null,
   "metadata": {
    "deletable": false,
    "nbgrader": {
     "checksum": "1f2926c214bf74269a3a7535b2d3ee19",
     "grade": true,
     "grade_id": "cell-f36e7e8d51b8ba78",
     "locked": false,
     "points": 0,
     "schema_version": 1,
     "solution": true
    }
   },
   "outputs": [],
   "source": [
    "def image_gradients_polar(image):\n",
    "    filter_kernel = np.array([[-1,0,1]], dtype=np.float32)\n",
    "    dx = scipy.ndimage.convolve(image, filter_kernel, mode='reflect')\n",
    "    dy = scipy.ndimage.convolve(image, filter_kernel.T, mode='reflect')\n",
    "    magnitude = np.hypot(dx, dy)\n",
    "    direction = np.arctan2(dy, dx) # between -pi and +pi\n",
    "    return magnitude, direction\n",
    "\n",
    "def hoglike_descriptor(image, cell_size=8, n_bins=16):\n",
    "    image = image.astype(np.float32)/255\n",
    "    grad_mag, grad_dir = image_gradients_polar(np.sqrt(image+1e-4))\n",
    "\n",
    "    # YOUR CODE HERE\n",
    "    raise NotImplementedError()\n",
    "    \n",
    "    # Normalization\n",
    "    bin_norm = np.linalg.norm(hog, axis=-1, keepdims=True)\n",
    "    return hog / (bin_norm+1e-4)\n",
    "    "
   ]
  },
  {
   "cell_type": "markdown",
   "metadata": {},
   "source": [
    "A simple way to visualize HOG features is to plot the 90° rotated gradient vector for each bin, with length propotional to the value of the bin. The function `plot_hog` implements this. The 90° rotation makes the image easier to interpret intuitively."
   ]
  },
  {
   "cell_type": "code",
   "execution_count": null,
   "metadata": {},
   "outputs": [],
   "source": [
    "def plot_hog_cell(image_roi, hog_cell):\n",
    "    \"\"\"Visualize a single HOG cell.\"\"\"\n",
    "    output_size = image_roi.shape[0]\n",
    "    half_bin_size = np.pi / len(hog_cell) / 2\n",
    "    tangent_angles = np.linspace(0, np.pi, len(hog_cell), endpoint=False)+np.pi/2\n",
    "    center = output_size / 2\n",
    "    \n",
    "    for cell_value, tangent_angle in zip(hog_cell, tangent_angles):\n",
    "        cos_sin = np.array([np.cos(tangent_angle), np.sin(tangent_angle)])\n",
    "        offset = cell_value * output_size * cos_sin *0.5\n",
    "        pt1 = tuple(np.round(center - offset).astype(int))\n",
    "        pt2 = tuple(np.round(center + offset).astype(int))\n",
    "        cv2.line(image_roi, pt1, pt2, color=(0.976,0.506,0.165), \n",
    "                 thickness=2, lineType=cv2.LINE_AA)\n",
    "\n",
    "def plot_hog(image, hog, cell_size=8):\n",
    "    upsample_factor = 48 / cell_size\n",
    "    result = cv2.resize(image, (0, 0), fx=upsample_factor, fy=upsample_factor,\n",
    "                        interpolation=cv2.INTER_NEAREST)\n",
    "    result = cv2.cvtColor(result, cv2.COLOR_GRAY2RGB).astype(np.float32)/255*0.6\n",
    "\n",
    "    for y, x in np.ndindex(*hog.shape[:2]):\n",
    "        yx = np.array([y, x])\n",
    "        y0_out, x0_out = (yx * cell_size * upsample_factor).astype(int)\n",
    "        y1_out, x1_out = ((yx+1) * cell_size * upsample_factor).astype(int)\n",
    "        result_roi = result[y0_out:y1_out, x0_out:x1_out]\n",
    "        plot_hog_cell(result_roi, hog[y, x])\n",
    "    return result"
   ]
  },
  {
   "cell_type": "code",
   "execution_count": null,
   "metadata": {},
   "outputs": [],
   "source": [
    "# Two simple wave images are here to help understand the visualization\n",
    "waves = [imageio.imread('sine.png'), imageio.imread('circular_sine.jpg')]\n",
    "images = waves + train_images_pos[:6] + train_images_neg[:6]\n",
    "hogs = [hoglike_descriptor(image) for image in images]\n",
    "hog_plots = [plot_hog(image, hog) for image, hog in zip(images, hogs)]\n",
    "titles = ['Wave 1', 'Wave 2'] + ['Positive']*6 + ['Negative']*6\n",
    "plot_multiple(hog_plots, titles, max_columns=2, imheight=2, share_axes=False)"
   ]
  },
  {
   "cell_type": "markdown",
   "metadata": {},
   "source": [
    "**Describe what you see. Can you spot any interesting HOG-cells in the positive and negative example?**"
   ]
  },
  {
   "cell_type": "markdown",
   "metadata": {
    "deletable": false,
    "nbgrader": {
     "checksum": "8cd262b57837cc9458477f6961ca064e",
     "grade": true,
     "grade_id": "cell-8858beb58dc217b8",
     "locked": false,
     "points": 0,
     "schema_version": 1,
     "solution": true
    }
   },
   "source": [
    "YOUR ANSWER HERE"
   ]
  },
  {
   "cell_type": "markdown",
   "metadata": {},
   "source": [
    "## Support Vector Machine for Classifying Image Windows\n",
    "\n",
    "We now want to train a classifier in our HOG-like feature space to tell cars and non-cars apart. We use a kernel SVM with Gaussian (radial basis function, RBF) kernel for this. \n",
    "\n",
    "Given the HOG representation of an image patch, the classifier should predict if the image patch corresponds to a car. The classifier will then be used to detect objects in new test images using sliding windows."
   ]
  },
  {
   "cell_type": "code",
   "execution_count": null,
   "metadata": {},
   "outputs": [],
   "source": [
    "def train_svm(positive_hog_windows, negative_hog_windows):\n",
    "    svm = sklearn.svm.SVC(C=10, probability=True, kernel='rbf', gamma='scale')\n",
    "    hog_windows = np.concatenate([positive_hog_windows, negative_hog_windows])\n",
    "    svm_input = hog_windows.reshape([len(hog_windows),-1])\n",
    "    svm_target = np.concatenate((\n",
    "            np.full(len(positive_hog_windows), 1, dtype=np.float32),\n",
    "            np.full(len(negative_hog_windows), 0, dtype=np.float32)))\n",
    "    svm.fit(svm_input, svm_target)\n",
    "    return svm\n",
    "\n",
    "def predict_svm(svm, hog_window):\n",
    "    \"\"\"Return the confidence of classifying as a car.\"\"\"\n",
    "    return svm.predict_proba(hog_window.reshape(1, -1))[:, 1]"
   ]
  },
  {
   "cell_type": "code",
   "execution_count": null,
   "metadata": {},
   "outputs": [],
   "source": [
    "start_time = time.time()\n",
    "print('Computing features...')\n",
    "positive_hog_windows = [hoglike_descriptor(im) for im in train_images_pos]\n",
    "negative_hog_windows = [hoglike_descriptor(im) for im in train_images_neg]\n",
    "duration = time.time()-start_time     \n",
    "print(f'Done. Used {duration:.2f} s.')\n",
    "\n",
    "start_time = time.time()\n",
    "print('Training SVM...')\n",
    "svm = train_svm(positive_hog_windows, negative_hog_windows)\n",
    "duration = time.time()-start_time\n",
    "print(f'Done. Used {duration:.2f} s.')"
   ]
  },
  {
   "cell_type": "markdown",
   "metadata": {},
   "source": [
    "## Sliding Window-based Detection\n",
    "\n",
    "Now implement sliding window classification in the function `get_score_map`. It takes as input the trained classifier object `svm`, the HOG representation of a query image and `window_shape`, the shape of the sliding window (height, width). \n",
    "\n",
    "The function should slide a window over the HOG representation, compute the classification score for each window location, and return a score map. Notice that the score map will not have the same shape as the input HOG representation.\n",
    "\n",
    "Use `predict_svm(svm, hog_window)` to get classification score for a HOG window. "
   ]
  },
  {
   "cell_type": "code",
   "execution_count": null,
   "metadata": {
    "deletable": false,
    "nbgrader": {
     "checksum": "4963c9098cf7586fa5186d7a81f9971d",
     "grade": true,
     "grade_id": "cell-0f8e401b83dd713e",
     "locked": false,
     "points": 0,
     "schema_version": 1,
     "solution": true
    }
   },
   "outputs": [],
   "source": [
    "def get_score_map(svm, hog, window_shape):\n",
    "    # YOUR CODE HERE\n",
    "    raise NotImplementedError()"
   ]
  },
  {
   "cell_type": "markdown",
   "metadata": {},
   "source": [
    "The next step is to convert the score map to actual detections. Implement the function `score_map_to_detections` which returns the indices as well as the values of scores that are higher than certain `threshold`."
   ]
  },
  {
   "cell_type": "code",
   "execution_count": null,
   "metadata": {
    "deletable": false,
    "nbgrader": {
     "checksum": "cfd1b750f3c04abdf8dc7869f2e08723",
     "grade": true,
     "grade_id": "cell-e08ef16279d111d6",
     "locked": false,
     "points": 0,
     "schema_version": 1,
     "solution": true
    }
   },
   "outputs": [],
   "source": [
    "def score_map_to_detections(score_map, threshold):\n",
    "    # YOUR CODE HERE\n",
    "    raise NotImplementedError()\n",
    "    return xs, ys, scores"
   ]
  },
  {
   "cell_type": "markdown",
   "metadata": {
    "collapsed": true
   },
   "source": [
    "Finally, we can test our car detector!"
   ]
  },
  {
   "cell_type": "code",
   "execution_count": null,
   "metadata": {},
   "outputs": [],
   "source": [
    "import itertools\n",
    "def draw_detections(image, xs, ys, scores, window_shape,\n",
    "                    cell_size=8):\n",
    "    offset_size = 0\n",
    "    \n",
    "    h, w = image.shape\n",
    "    scale_out = 5\n",
    "    output_image = cv2.resize(\n",
    "        image, (w*scale_out, h*scale_out), interpolation=cv2.INTER_NEAREST)\n",
    "    output_image = cv2.cvtColor(output_image, cv2.COLOR_GRAY2RGB)//2\n",
    "    \n",
    "    window_size_out = np.array(window_shape[::-1]) * cell_size * scale_out\n",
    "    color = (197,255,0)\n",
    "    \n",
    "    for x, y, score in zip(xs, ys, scores):\n",
    "        im_p0 = (np.array([x,y]) * cell_size + offset_size) * scale_out\n",
    "        im_p1 = im_p0 + window_size_out\n",
    "        cv2.rectangle(output_image, tuple(im_p0), tuple(im_p1),\n",
    "                      color, thickness=3, lineType=cv2.LINE_AA)\n",
    "        cv2.putText(output_image, f'{score:.0%}', tuple(im_p0), \n",
    "                    cv2.FONT_HERSHEY_COMPLEX, 1.5, color,\n",
    "                    thickness=2, lineType=cv2.LINE_AA)\n",
    "    return output_image"
   ]
  },
  {
   "cell_type": "code",
   "execution_count": null,
   "metadata": {},
   "outputs": [],
   "source": [
    "images, titles = [], []\n",
    "window_shape = positive_hog_windows[0].shape[:2]\n",
    "\n",
    "for test_image in test_images[:8]:\n",
    "    hog = hoglike_descriptor(test_image)\n",
    "    score_map = get_score_map(svm, hog, window_shape)\n",
    "    xs, ys, scores = score_map_to_detections(score_map, 0.8)\n",
    "    detection_image = draw_detections(\n",
    "        test_image, xs, ys, scores, window_shape)\n",
    "    \n",
    "    images += [plot_hog(test_image, hog), score_map, detection_image]\n",
    "    titles += ['HOG', 'Score map', 'Detections']\n",
    "\n",
    "plot_multiple(\n",
    "    images, titles, max_columns=3, \n",
    "    imheight=2, imwidth=3.5, colormap='viridis')"
   ]
  },
  {
   "cell_type": "markdown",
   "metadata": {},
   "source": [
    "How do the results look?"
   ]
  },
  {
   "cell_type": "markdown",
   "metadata": {
    "deletable": false,
    "nbgrader": {
     "checksum": "ab1b97be598902a0702c2b8ea5b2f879",
     "grade": true,
     "grade_id": "cell-6c05c0b2dff68773",
     "locked": false,
     "points": 0,
     "schema_version": 1,
     "solution": true
    }
   },
   "source": [
    "YOUR ANSWER HERE"
   ]
  },
  {
   "cell_type": "markdown",
   "metadata": {},
   "source": [
    "## Non-Maximum Suppression\n",
    "\n",
    "Sliding window based detectors often give multiple responses for the same target. A way to compensate such effect is to use non-maximum-suppression (NMS) on the score map. NMS simply looks at every pixel of the score map and keeps it only if it is the maximum in its 8-neighborhood (set to 0 otherwise). Implement `nms` which takes a score map, and returns the non-maximum-suppressed one."
   ]
  },
  {
   "cell_type": "code",
   "execution_count": null,
   "metadata": {
    "deletable": false,
    "nbgrader": {
     "checksum": "7b7b8581ab8a3eed98a50c6a7b14242b",
     "grade": true,
     "grade_id": "cell-c8585690dfff6dfe",
     "locked": false,
     "points": 0,
     "schema_version": 1,
     "solution": true
    }
   },
   "outputs": [],
   "source": [
    "def nms(score_map):\n",
    "    # YOUR CODE HERE\n",
    "    raise NotImplementedError()"
   ]
  },
  {
   "cell_type": "code",
   "execution_count": null,
   "metadata": {},
   "outputs": [],
   "source": [
    "images, titles = [], []\n",
    "for test_image in test_images[:8]:\n",
    "    hog = hoglike_descriptor(test_image)\n",
    "    score_map = nms(get_score_map(svm, hog, window_shape))\n",
    "    xs, ys, scores = score_map_to_detections(score_map, 0.8)\n",
    "    detection_image = draw_detections(\n",
    "        test_image, xs, ys, scores, window_shape)\n",
    "    \n",
    "    images += [plot_hog(test_image, hog), score_map, detection_image]\n",
    "    titles += ['HOG', 'Score map after NMS', 'Detections after NMS']\n",
    "\n",
    "plot_multiple(\n",
    "    images, titles, max_columns=3, \n",
    "    imheight=2, imwidth=3.5, colormap='viridis')"
   ]
  },
  {
   "cell_type": "markdown",
   "metadata": {},
   "source": [
    "**Does the result look better? Can you find examples where it fails? Can you imagine a downside of non-maximum-suppression?**"
   ]
  },
  {
   "cell_type": "markdown",
   "metadata": {
    "deletable": false,
    "nbgrader": {
     "checksum": "91915fec62180ec80d967e20f6b78343",
     "grade": true,
     "grade_id": "cell-185a889c30e2d94c",
     "locked": false,
     "points": 0,
     "schema_version": 1,
     "solution": true
    }
   },
   "source": [
    "YOUR ANSWER HERE"
   ]
  },
  {
   "cell_type": "markdown",
   "metadata": {},
   "source": [
    "Let's evaluate the performance of our detector on the full UIUC test set. The dataset's zip contains a Java-based evaluation program, which we can call from this notebook (lines starting with ! are interpreted as shell commands).\n",
    "\n",
    "With correct implementation the F-measure should be above 90%."
   ]
  },
  {
   "cell_type": "code",
   "execution_count": null,
   "metadata": {},
   "outputs": [],
   "source": [
    "def evaluate(test_images, svm, window_shape, descriptor_func=hoglike_descriptor, \n",
    "             cell_size=8, threshold=0.8):\n",
    "    # Write the detections to a file that is understood by the Java-based \n",
    "    # evaluation program supplied with the dataset.\n",
    "    with open('foundLocations.txt', 'w') as f:\n",
    "        for i, test_image in enumerate(test_images):\n",
    "            hog = descriptor_func(test_image)\n",
    "            score_map = nms(get_score_map(svm, hog, window_shape))\n",
    "            xs, ys, scores = score_map_to_detections(score_map, threshold)\n",
    "\n",
    "            f.write(f'{i}: ')\n",
    "            for x,y in zip(xs, ys):\n",
    "                f.write(f'({y*cell_size}, {x*cell_size}) ')\n",
    "            f.write('\\n')\n",
    "    \n",
    "    # Run the evaluation program on our generated file\n",
    "    !java -classpath $dataset_dir Evaluator $dataset_dir/trueLocations.txt foundLocations.txt        \n",
    "\n",
    "evaluate(test_images, svm, window_shape, threshold=0.8)"
   ]
  },
  {
   "cell_type": "markdown",
   "metadata": {},
   "source": [
    "## [BONUS] Soft Assignment to Multiple Bins and Cells\n",
    "\n",
    "In our `hoglike_descriptor`, we have used a simple assignment scheme of gradient vector to HOG bins. Each pixel voted for a single gradient orientation bin of a single spatial cell.\n",
    "\n",
    "Now imagine if a gradient orientation falls on the end of an orientation bin. A small rotation would make it change to its neighboring bin, thus suddenly altering the HOG feature.\n",
    "\n",
    "Similarly, imagine a pixel near the border of between HOG-cells (spatially). A small translation of the object by a few pixels would make this gradient vote in the neighboring cell, again largely changing the features.\n",
    "\n",
    "To make our descriptor more robust to small rotations and translations, let's replace this simple assignment scheme with a smooth voting. This will distribute the gradient magnitude over neighboring bins and cells.\n",
    "\n",
    "In particular, we will use trilinear interpolation weights for weighting votes to neighboring bins. This is analogous to bilinear interpolation for three dimensional arrays. Remember that our descriptor is a three-dimensional array, and is indexed by two spatial cell indices and an orientation bin index. (If you do not understand what is bilinear interpolation, read the first tutorial provided at the beginning of this exercise.)\n",
    "\n",
    "Implement a `hoglike_descriptor_with_interp` function, which has same functionality and signature with `hoglike_descriptor` implemented earlier, but with simple assignment replaced with soft assignment according to trilinear interpolation weights."
   ]
  },
  {
   "cell_type": "code",
   "execution_count": null,
   "metadata": {
    "deletable": false,
    "nbgrader": {
     "checksum": "0ffb51b1b2f9843be2809a426b896c10",
     "grade": true,
     "grade_id": "cell-989cf3b87904bf9d",
     "locked": false,
     "points": 0,
     "schema_version": 1,
     "solution": true
    }
   },
   "outputs": [],
   "source": [
    "def hoglike_descriptor_with_interp(image, cell_size=8, n_bins=16):\n",
    "    # YOUR CODE HERE\n",
    "    raise NotImplementedError()\n",
    "    \n",
    "    # Normalization\n",
    "    bin_norm = np.linalg.norm(hog, axis=-1, keepdims=True)\n",
    "    return hog / (bin_norm + 1e-4)"
   ]
  },
  {
   "cell_type": "code",
   "execution_count": null,
   "metadata": {},
   "outputs": [],
   "source": [
    "start_time = time.time()\n",
    "print('Computing features...')\n",
    "descriptor_func = hoglike_descriptor_with_interp\n",
    "positive_hog_windows = [descriptor_func(im) for im in train_images_pos]\n",
    "negative_hog_windows = [descriptor_func(im) for im in train_images_neg]\n",
    "duration = time.time()-start_time     \n",
    "print(f'Done. Used {duration:.2f} s.')\n",
    "\n",
    "start_time = time.time()\n",
    "print('Training SVM...')\n",
    "svm2 = train_svm(positive_hog_windows, negative_hog_windows)\n",
    "duration = time.time()-start_time\n",
    "print(f'Done. Used {duration:.2f} s.')"
   ]
  },
  {
   "cell_type": "markdown",
   "metadata": {},
   "source": [
    "Does it obtain better results?"
   ]
  },
  {
   "cell_type": "code",
   "execution_count": null,
   "metadata": {},
   "outputs": [],
   "source": [
    "evaluate(test_images, svm2, window_shape, \n",
    "         hoglike_descriptor_with_interp, threshold=0.8)"
   ]
  },
  {
   "cell_type": "markdown",
   "metadata": {
    "deletable": false,
    "nbgrader": {
     "checksum": "f89536df07a6f70f52161d8e0d72d522",
     "grade": true,
     "grade_id": "cell-7621e3043b06bcec",
     "locked": false,
     "points": 0,
     "schema_version": 1,
     "solution": true
    }
   },
   "source": [
    "YOUR ANSWER HERE"
   ]
  },
  {
   "cell_type": "markdown",
   "metadata": {},
   "source": [
    "**Congratulations, you have now implemented a car detector! To conclude, visualize it on different test images.**"
   ]
  },
  {
   "cell_type": "code",
   "execution_count": null,
   "metadata": {},
   "outputs": [],
   "source": [
    "extra_im = imageio.imread('cars.jpg')\n",
    "images = []\n",
    "\n",
    "for test_image in [extra_im, *test_images[:53]]:\n",
    "    hog = hoglike_descriptor_with_interp(test_image)\n",
    "    score_map = nms(get_score_map(svm2, hog, window_shape))\n",
    "    xs, ys, scores = score_map_to_detections(score_map, 0.8)\n",
    "    detection_image = draw_detections(\n",
    "        test_image, xs, ys, scores, window_shape)\n",
    "    images.append(detection_image)\n",
    "\n",
    "plot_multiple(images, max_columns=3, imheight=2, imwidth=3.5)"
   ]
  }
 ],
 "metadata": {
  "kernelspec": {
   "display_name": "Python 3",
   "language": "python",
   "name": "python3"
  },
  "language_info": {
   "codemirror_mode": {
    "name": "ipython",
    "version": 3
   },
   "file_extension": ".py",
   "mimetype": "text/x-python",
   "name": "python",
   "nbconvert_exporter": "python",
   "pygments_lexer": "ipython3",
   "version": "3.6.6"
  }
 },
 "nbformat": 4,
 "nbformat_minor": 2
}
